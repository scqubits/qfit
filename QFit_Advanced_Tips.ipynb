{
 "cells": [
  {
   "cell_type": "markdown",
   "metadata": {},
   "source": [
    "# `QFit` Advanced Features\n",
    "\n",
    "Tianpu Zhao, Danyang Chen and Jens Koch\n",
    "\n",
    "This guide will walk you through advanced features and usages for you to make full use of `qfit`. \n",
    "\n",
    "Note: This guide is still under developement and it will be updated as we make progress in `qfit` main dev."
   ]
  },
  {
   "cell_type": "markdown",
   "metadata": {},
   "source": [
    "## 1. Importing multiple experimental data\n",
    "\n",
    "#### 1.1 Requirements for the data files\n",
    "You may wish to fit parameters with mutiple two-tone spectroscopy data, for example in the following scenarios:\n",
    "- You performed a coarse scan over a wide range of DC voltage, and performed a more refined scan near the sweet spot of the qubit to resolve the qubit frequency.\n",
    "- Your device has multiple DC voltage sources to control magnetic flux and/or offset charge, and you need to determine the relation between input DC voltages and the tuning parameters, which has to be fully determined with multiple two-tone spectroscopies.\n",
    "\n",
    "`QFit` supports loading multiple spectroscopy data files and fit against all of them. There are a few requirements for the data files being loaded together:\n",
    "1. Each data file represent a single run two-tone spectroscopy experiment. It should  contains \n",
    "    - a few 2D spectroscopy arrays with the same shape (usually amplitude and phase) \n",
    "    - a few 1D arrays for axes coordinates. They should have the same length as the spectroscopy arrays' x or y dimension. When they are absent, especially when the data is just an image, `QFit` will generate the coordinate automatically.\n",
    "2. All the data files used within the fitting session should contain the same coordinates' names (i.e. \"voltage\" for the DC voltage source axes).\n",
    "\n",
    "With the above two requirements, `QFit` accepts various input data formats including hdf5, matlab, and images. We hope to make `QFit` as easy to use as possible. Reach out to us if you want to use `QFit` with your own data format."
   ]
  },
  {
   "cell_type": "markdown",
   "metadata": {},
   "source": [
    "#### 1.2 Importing data files\n",
    "Assume you have a circuit design for fluxonium, and you have two DC flux bias lines nearby. You performed two experiments that sweeps along two different lines in the $(V_1, V_2)$ space, named `joint_qubit_twotone_ct1.h5` and `joint_qubit_twotone_ct2.h5`. The first dataset is obtained by sweeping $V_1$ and keeping $V_2$ fixed, while in the second dataset $V_1$ is fixed while $V_2$ is swept. Here we show you two ways to import these data files."
   ]
  },
  {
   "cell_type": "markdown",
   "metadata": {},
   "source": [
    "##### Method 1: provide a list of file paths for initiating the `Fit` class instance"
   ]
  },
  {
   "cell_type": "code",
   "execution_count": 1,
   "metadata": {},
   "outputs": [
    {
     "name": "stderr",
     "output_type": "stream",
     "text": [
      "qt.qpa.fonts: Populating font family aliases took 132 ms. Replace uses of missing font family \"Roboto Medium\" with one that exists to avoid this cost. \n",
      "UserWarning: Attempting to set identical low and high ylims makes transformation singular; automatically expanding.\n",
      " /Users/pacosynthesis/Desktop/ScienceTech/Research/Superconducting_qubit_NU/qfit/qfit/qfit/widgets/mpl_canvas.py: 634"
     ]
    },
    {
     "name": "stderr",
     "output_type": "stream",
     "text": [
      "RuntimeWarning: invalid value encountered in scalar divide\n",
      " /Users/pacosynthesis/Desktop/ScienceTech/Research/Superconducting_qubit_NU/qfit/qfit/qfit/widgets/mpl_canvas.py: 608Traceback (most recent call last):\n",
      "  File \"/Users/pacosynthesis/Desktop/ScienceTech/Research/Superconducting_qubit_NU/qfit/qfit/qfit/widgets/mpl_canvas.py\", line 982, in updateElement\n",
      "    self._plotElement(name, draw=True, **kwargs)\n",
      "  File \"/Users/pacosynthesis/Desktop/ScienceTech/Research/Superconducting_qubit_NU/qfit/qfit/qfit/widgets/mpl_canvas.py\", line 958, in _plotElement\n",
      "    self._restoreXYLim()\n",
      "  File \"/Users/pacosynthesis/Desktop/ScienceTech/Research/Superconducting_qubit_NU/qfit/qfit/qfit/widgets/mpl_canvas.py\", line 650, in _restoreXYLim\n",
      "    yAx.set_ylim(*self._dispLimByPrcplLim(\n",
      "  File \"/Users/pacosynthesis/miniforge3/envs/scqubits_ARM/lib/python3.11/site-packages/matplotlib/axes/_base.py\", line 3898, in set_ylim\n",
      "    return self.yaxis._set_lim(bottom, top, emit=emit, auto=auto)\n",
      "           ^^^^^^^^^^^^^^^^^^^^^^^^^^^^^^^^^^^^^^^^^^^^^^^^^^^^^^\n",
      "  File \"/Users/pacosynthesis/miniforge3/envs/scqubits_ARM/lib/python3.11/site-packages/matplotlib/axis.py\", line 1210, in _set_lim\n",
      "    v0 = self.axes._validate_converted_limits(v0, self.convert_units)\n",
      "         ^^^^^^^^^^^^^^^^^^^^^^^^^^^^^^^^^^^^^^^^^^^^^^^^^^^^^^^^^^^^\n",
      "  File \"/Users/pacosynthesis/miniforge3/envs/scqubits_ARM/lib/python3.11/site-packages/matplotlib/axes/_base.py\", line 3585, in _validate_converted_limits\n",
      "    raise ValueError(\"Axis limits cannot be NaN or Inf\")\n",
      "ValueError: Axis limits cannot be NaN or Inf\n",
      "Warning: [scqubits] Some quantum system parameters have been changed and generated spectrum data could be outdated, potentially leading to incorrect results. Spectral data can be refreshed via <HilbertSpace>.generate_lookup() or <ParameterSweep>.run()\n",
      " /Users/pacosynthesis/Desktop/ScienceTech/Research/Superconducting_qubit_NU/Codes/scqubits_Tianpu/scqubits/utils/misc.py: 174Warning: [scqubits] Some quantum system parameters have been changed and generated spectrum data could be outdated, potentially leading to incorrect results. Spectral data can be refreshed via <HilbertSpace>.generate_lookup() or <ParameterSweep>.run()\n",
      " /Users/pacosynthesis/Desktop/ScienceTech/Research/Superconducting_qubit_NU/Codes/scqubits_Tianpu/scqubits/utils/misc.py: 174Warning: [scqubits] Some quantum system parameters have been changed and generated spectrum data could be outdated, potentially leading to incorrect results. Spectral data can be refreshed via <HilbertSpace>.generate_lookup() or <ParameterSweep>.run()\n",
      " /Users/pacosynthesis/Desktop/ScienceTech/Research/Superconducting_qubit_NU/Codes/scqubits_Tianpu/scqubits/utils/misc.py: 174Warning: [scqubits] Some quantum system parameters have been changed and generated spectrum data could be outdated, potentially leading to incorrect results. Spectral data can be refreshed via <HilbertSpace>.generate_lookup() or <ParameterSweep>.run()\n",
      " /Users/pacosynthesis/Desktop/ScienceTech/Research/Superconducting_qubit_NU/Codes/scqubits_Tianpu/scqubits/utils/misc.py: 174Warning: [scqubits] Some quantum system parameters have been changed and generated spectrum data could be outdated, potentially leading to incorrect results. Spectral data can be refreshed via <HilbertSpace>.generate_lookup() or <ParameterSweep>.run()\n",
      " /Users/pacosynthesis/Desktop/ScienceTech/Research/Superconducting_qubit_NU/Codes/scqubits_Tianpu/scqubits/utils/misc.py: 174Warning: [scqubits] Some quantum system parameters have been changed and generated spectrum data could be outdated, potentially leading to incorrect results. Spectral data can be refreshed via <HilbertSpace>.generate_lookup() or <ParameterSweep>.run()\n",
      " /Users/pacosynthesis/Desktop/ScienceTech/Research/Superconducting_qubit_NU/Codes/scqubits_Tianpu/scqubits/utils/misc.py: 174Warning: [scqubits] Some quantum system parameters have been changed and generated spectrum data could be outdated, potentially leading to incorrect results. Spectral data can be refreshed via <HilbertSpace>.generate_lookup() or <ParameterSweep>.run()\n",
      " /Users/pacosynthesis/Desktop/ScienceTech/Research/Superconducting_qubit_NU/Codes/scqubits_Tianpu/scqubits/utils/misc.py: 174Warning: [scqubits] Some quantum system parameters have been changed and generated spectrum data could be outdated, potentially leading to incorrect results. Spectral data can be refreshed via <HilbertSpace>.generate_lookup() or <ParameterSweep>.run()\n",
      " /Users/pacosynthesis/Desktop/ScienceTech/Research/Superconducting_qubit_NU/Codes/scqubits_Tianpu/scqubits/utils/misc.py: 174Warning: [scqubits] Some quantum system parameters have been changed and generated spectrum data could be outdated, potentially leading to incorrect results. Spectral data can be refreshed via <HilbertSpace>.generate_lookup() or <ParameterSweep>.run()\n",
      " /Users/pacosynthesis/Desktop/ScienceTech/Research/Superconducting_qubit_NU/Codes/scqubits_Tianpu/scqubits/utils/misc.py: 174Warning: [scqubits] Some quantum system parameters have been changed and generated spectrum data could be outdated, potentially leading to incorrect results. Spectral data can be refreshed via <HilbertSpace>.generate_lookup() or <ParameterSweep>.run()\n",
      " /Users/pacosynthesis/Desktop/ScienceTech/Research/Superconducting_qubit_NU/Codes/scqubits_Tianpu/scqubits/utils/misc.py: 174"
     ]
    }
   ],
   "source": [
    "# Quantum model for a single fluxonium\n",
    "import scqubits as scq\n",
    "\n",
    "fluxonium = scq.Fluxonium(\n",
    "    EJ=3.0, EC=0.9, EL=0.25, flux=0.5, cutoff=100, truncated_dim=5, id_str=\"Fluxonium\"\n",
    ")\n",
    "hilbert_space = scq.HilbertSpace([fluxonium])\n",
    "\n",
    "# spectroscopy data\n",
    "data = [\n",
    "    \"./example_data/joint_qubit_twotone_ct1.h5\",\n",
    "    \"./example_data/joint_qubit_twotone_ct2.h5\",\n",
    "]\n",
    "\n",
    "# launch QFit.\n",
    "from qfit import Fit\n",
    "\n",
    "fit = Fit(hilbert_space, data)"
   ]
  },
  {
   "cell_type": "markdown",
   "metadata": {},
   "source": [
    "This way, you directly import two figures. You may add and remove figures, and switch between tabs for viewing different figures.\n",
    "\n",
    "<p align=\"center\">\n",
    "  <img width=\"400\" src=\"resources/images/tip_file_tabs.png\">\n",
    "</p>  "
   ]
  },
  {
   "cell_type": "markdown",
   "metadata": {},
   "source": [
    "##### Method 2: load figure after initiating `Fit` instance\n",
    "\n",
    "You may also run `fit = Fit(hs)` directly, and a window will pop up and ask you for the file you wish to import."
   ]
  },
  {
   "cell_type": "markdown",
   "metadata": {},
   "source": [
    "#### 1.3 Configuring the data"
   ]
  },
  {
   "cell_type": "markdown",
   "metadata": {},
   "source": [
    "After loading the data, you will see a panel showing <span style=\"color:rgb(190, 130, 250);\">METADATA</span> of the data that is currently presented on the right. \n",
    "\n",
    "<p align=\"center\">\n",
    "  <img width=\"400\" src=\"resources/images/adv_tip_metadata.png\">\n",
    "</p>  "
   ]
  },
  {
   "cell_type": "markdown",
   "metadata": {},
   "source": [
    "`QFit` automatically detects candidate axes that are stored in the h5 file, however you need to tell `QFit` which axes are for the x-axis (the input DC voltages on flux bias lines in our case), and which axis is for the y-axis (the frequency). Since both $V_1$ and $V_2$ are swept in the two datasets, we specify `voltage_1` and `voltage_2` as x coordinates and \"frequency\" as the y coordinate. \n",
    "<p align=\"center\">\n",
    "  <img width=\"300\" src=\"resources/images/adv_tip_select_axes.png\">\n",
    "</p> \n",
    "\n",
    "Then you will see the figures oriented correctly.\n",
    "<p align=\"center\">\n",
    "  <img width=\"300\" src=\"resources/images/adv_tip_correct_orientation.png\">\n",
    "</p> \n",
    "\n",
    "There are a few things to note:\n",
    "- Only common coordinates in all files are shown in the selection panel\n",
    "- Once selected, the data may be transposed to match the selected coordinates. \n",
    "- Multiple x coordinates are allowed, while there should be only one y coordinate (frequency)"
   ]
  },
  {
   "cell_type": "markdown",
   "metadata": {},
   "source": [
    "## 2. Calibrate flux crosstalk"
   ]
  },
  {
   "cell_type": "markdown",
   "metadata": {},
   "source": [
    "In our example, voltages of the input DC sources for the two flux bias lines both can contribute to the external flux of the fluxonium $\\Phi_{\\text{ext}}$:\n",
    "\n",
    "$$\n",
    "\\Phi_{\\text{ext}} = \\alpha_1 V_1 + \\alpha_2 V_2 + \\beta .\n",
    "$$\n",
    "\n",
    "To fully calibrate the relation between the voltages $V_1$, $V_2$ and the external flux $\\Phi_{\\text{ext}}$, we have to determine $\\alpha_1$, $\\alpha_2$ and $\\beta$. One such way to calibrate for these coefficients is to perform two two-tone spectroscopies that sweep along two (non-colinear) lines in the $(V_1, V_2)$ space.\n",
    "Since we have three unknowns, we have to provide three sets of $(V_1, V_2, \\Phi_{\\text{ext}})$. Labelling them as $(V_1^{(i)}, V_2^{(i)}, \\Phi_{\\text{ext}}^{(i)})$, with $i = 1,2,3$, we end up with three linear equations:\n",
    "$$\n",
    "\\Phi_{\\text{ext}}^{(1)} = \\alpha_1 V_1^{(1)} + \\alpha_2 V_2^{(1)} + \\beta \\\\\n",
    "\\Phi_{\\text{ext}}^{(2)} = \\alpha_1 V_1^{(2)} + \\alpha_2 V_2^{(2)} + \\beta \\\\\n",
    "\\Phi_{\\text{ext}}^{(3)} = \\alpha_1 V_1^{(3)} + \\alpha_2 V_2^{(3)} + \\beta .\n",
    "$$\n",
    "\n",
    "This also explains why we need two two-tone sweeps that are not co-linear: we need the above three equations not linearly-dependent, so that we can obtain a unique solution to those coefficients. This is only possible if we pick up three $(V_1, V_2)$ coordinates that are not all the same line.  \n",
    "\n",
    "The <span style=\"color:rgb(190, 130, 250);\">CALIBRATE</span> step helps you identify three such points. We can see in the ct1 figure there are two sweet spots that looks like $\\Phi_{\\text{ext}} = 0$ and $0.5$, then we extract $(V_1, V_2)$ at these sweet spots and then provide the corresponding external flux values:\n",
    "\n",
    "<p align=\"center\">\n",
    "  <img width=\"600\" src=\"resources/images/adv_tip_calibrate_1.png\">\n",
    "</p> \n",
    "\n",
    "and the third point is obtained from the ct2 figure:\n",
    "<p align=\"center\">\n",
    "  <img width=\"600\" src=\"resources/images/adv_tip_calibrate_2.png\">\n",
    "</p> "
   ]
  },
  {
   "cell_type": "markdown",
   "metadata": {},
   "source": [
    "Then you successfully calibrate for the relation between voltages and the external flux. The calibration for circuits with multiple tuning knobs can be performed in a similar way in `QFit`."
   ]
  },
  {
   "cell_type": "markdown",
   "metadata": {},
   "source": [
    "Please notice that the extracted data points for these two figures are grouped separately:\n",
    "<p align=\"center\">\n",
    "  <img width=\"600\" src=\"resources/images/adv_tip_extract_1.png\">\n",
    "</p> \n",
    "<p align=\"center\">\n",
    "  <img width=\"600\" src=\"resources/images/adv_tip_extract_2.png\">\n",
    "</p> "
   ]
  },
  {
   "cell_type": "code",
   "execution_count": null,
   "metadata": {},
   "outputs": [],
   "source": []
  },
  {
   "cell_type": "markdown",
   "metadata": {},
   "source": [
    "## 3. Setting panel\n",
    "You can find the setting button on the bottom left corner of the main window. Once clicked, a panel will pop up with multiple tabs: visual, spectrum and fit.\n",
    "\n",
    "#### 3.1 Visual\n",
    "The visual settings may improves the image contrast and help you locate peaks easier. \n",
    "<p align=\"center\">\n",
    "    <img width=\"200\" src=\"resources/images/tip_settings_visual.png\">\n",
    "</p>\n",
    "\n",
    "#### 3.2 Spectrum\n",
    "Options in the spectrum settings can change what transitions are plotted, and how these transitions are marked.\n",
    "\n",
    "<p align=\"center\">\n",
    "    <img width=\"200\" src=\"resources/images/tip_settings_spectrum.png\">\n",
    "</p>\n",
    "\n",
    "1. TRANSITIONS: transitions that **only** excites the selected subsystem selected are labelled in color; the dashed lines are other transitions. \n",
    "2. INITIAL STATE: the initial state of the transition, can either be specified in bare state label or dressed state index.\n",
    "3. EVALS COUNT: number of eigenvalues evaluated during parameter sweep.\n",
    "4. POINTS ADDED: to make the transition curve look smooth, we include more sweep points for parameter sweep, in addition to those included in the extracted data.\n",
    "5. PHOTONS: number of photons involved in the transition process. The transition frequency is ${|\\mathrm{final\\,energy} - \\mathrm{initial\\,energy}|}/{\\mathrm{photon\\,number}}$.\n",
    "\n",
    "\n",
    "**Examples**:\n",
    "\n",
    "* If you want to see the frequencies of transitions that start from the state labelled by (qubit, resonator) = (1,0) (a very good reason for this is that for fluxonium at half-flux sweet spot, the occupation probability of the state 1 may be significantly large due to small 01 transition frequency), then you may specify (1,0) as the initial state.\n",
    "\n",
    "<p align=\"center\">\n",
    "  <img width=\"600\" src=\"resources/images/initial_state_10.png\">\n",
    "</p>  \n",
    "\n",
    "* If you want to see frequencies of transitions that involves two photons, then you may specify photons to be 2.\n",
    "\n",
    "<p align=\"center\">\n",
    "  <img width=\"600\" src=\"resources/images/two_photon_process.png\">\n",
    "</p>  \n",
    "\n",
    "* To see sideband transitions (transitions that involve changes in bare state label of more than one subsystems, such as (1,0)->(0,1)), you may select \"none selected\" for the transitions option. This option highlights and labels all transitions between states with identified bare labels.\n",
    "\n",
    "<p align=\"center\">\n",
    "  <img width=\"600\" src=\"resources/images/all_transitions.png\">\n",
    "</p>  \n",
    "\n",
    "#### 3.3 Fit\n",
    "`QFit` uses `scipy.optimize` module to fit the data. \n",
    "Before the fitting process, you can set the optimizer configurations in the fit tab, including the optimizer to use and the tolerance of the optimizer. For more information, check out the [scipy.optimize documentation](https://docs.scipy.org/doc/scipy/reference/generated/scipy.optimize.minimize.html).\n",
    "<p align=\"center\">\n",
    "    <img width=\"200\" src=\"resources/images/tip_settings_fit.png\">\n",
    "</p>"
   ]
  },
  {
   "cell_type": "markdown",
   "metadata": {},
   "source": [
    "The fit settings provide options for optimizers (for example, tolerance)."
   ]
  },
  {
   "cell_type": "markdown",
   "metadata": {},
   "source": [
    "## Understanding the status\n",
    "\n",
    "To be completed soon..."
   ]
  },
  {
   "cell_type": "markdown",
   "metadata": {},
   "source": [
    "## General tips and strategies for parameter extraction"
   ]
  },
  {
   "cell_type": "markdown",
   "metadata": {
    "vscode": {
     "languageId": "plaintext"
    }
   },
   "source": [
    "#### Calibration\n",
    "1. You can adjust your calibration (specifically the mapped values) in pre-fit (through sliders) and fit (through optimizations).\n",
    "\n",
    "#### Extraction \n",
    "1. **Choose your points wisely!** More points with distinctive x-value being selected = longer calculation time. You may want to select representative points for fitting.\n",
    "\n",
    "2. For transitions, selecting bare or dressed labels means that you mark your initial and final states using bare indices (states are labelled by excitations of individual subsystems) or dressed indices (states are regarded as eigenstates of the entire system and labelled as 0, 1, 2, 3,... in ascending order of energy). \n",
    "\n",
    "3. If you do not know what label should be given to a group of points, you may choose the \"Unknown\" label, and come back to label it later once you have a better idea. \n",
    "\n",
    "4. Transitions may not necessarily start from the ground states; sometimes a higher-lying states are populated so the transitions from this high-lying state is activated.\n",
    "\n",
    "#### Pre-fit\n",
    "1. If your circuit system is computationally demanding (e.g. many-node circuits or a system of many coupled qubits), you may try following strategies:\n",
    "    - Use smaller `truncated_dim` for each subsystem within the Hilbert space, and/or reduce number of basis states (cutoffs) of each circuit; this may have a tradeoff on accuracy, though.\n",
    "    - Reduce `POINTS ADDED` in the spectrum settings. \n",
    "    - Select points in a way that distinctive x-value is less. \n",
    "\n",
    "2. After calibration, you may go ahead to pre-fit and adjust sliders to compute transitions and compare against two-tone spectroscopies directly, then extract and label peaks in the data.\n",
    "\n",
    "#### Miscellaneous\n",
    "1. After importing experimental data, you can always switch between different panels to perform fit.\n"
   ]
  },
  {
   "cell_type": "markdown",
   "metadata": {},
   "source": []
  }
 ],
 "metadata": {
  "kernelspec": {
   "display_name": "arm311",
   "language": "python",
   "name": "python3"
  },
  "language_info": {
   "codemirror_mode": {
    "name": "ipython",
    "version": 3
   },
   "file_extension": ".py",
   "mimetype": "text/x-python",
   "name": "python",
   "nbconvert_exporter": "python",
   "pygments_lexer": "ipython3",
   "version": "3.11.4"
  }
 },
 "nbformat": 4,
 "nbformat_minor": 2
}
