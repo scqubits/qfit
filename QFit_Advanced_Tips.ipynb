{
 "cells": [
  {
   "cell_type": "markdown",
   "metadata": {},
   "source": [
    "# `QFit` Advanced Tips\n",
    "\n",
    "Tianpu Zhao, Danyang Chen and Jens Koch\n",
    "\n",
    "This guide will walk you through some important tips and usages for you to make full use of `qfit`. \n",
    "\n",
    "Note: This guide is still under developement and it will be updated as we make progress in `qfit` main dev."
   ]
  },
  {
   "cell_type": "markdown",
   "metadata": {},
   "source": [
    "## 1. Data file format, the importer\n",
    "\n",
    "#### 1.1 Requirements for the data files\n",
    "`QFit` supports loading multiple spectroscopy data files and fit against all of them. There are a few requirements for the data files being loaded together:\n",
    "1. Each data file represent a single run two-tone spectroscopy experiment. It should  contains \n",
    "    - a few 2D spectroscopy arrays with the same shape (usually amplitude and phase) \n",
    "    - a few 1D arrays for coordinates. They should have the same length as the spectroscopy arrays' x or y dimension. When they are absent, especially when the data is just an image, `QFit` will generate the coordinate automatically.\n",
    "2. When being fit together, the data files should contain the same coordinates' names. \n",
    "\n",
    "With the above two requirements, `QFit` accepts various input data formats including hdf5, matlab, and images. We hope to make `qfit` as easy to use as possible. Reach out to us if you want to use `qfit` with your own data format."
   ]
  },
  {
   "cell_type": "markdown",
   "metadata": {},
   "source": [
    "#### 1.2 Importing data files\n",
    "Task: Import multiple data files and configure them correctly."
   ]
  },
  {
   "cell_type": "code",
   "execution_count": null,
   "metadata": {},
   "outputs": [],
   "source": [
    "# Hilbert space for protomon\n",
    "\n",
    "# launch QFit"
   ]
  },
  {
   "cell_type": "markdown",
   "metadata": {},
   "source": [
    "Two voltage, select. \n",
    "\n",
    "Auto orientation.\n",
    "\n",
    "Continue and never go back"
   ]
  },
  {
   "cell_type": "markdown",
   "metadata": {},
   "source": [
    "## 2. Calibrate flux crosstalk"
   ]
  },
  {
   "cell_type": "markdown",
   "metadata": {},
   "source": [
    "## Setting panel"
   ]
  },
  {
   "cell_type": "markdown",
   "metadata": {
    "vscode": {
     "languageId": "plaintext"
    }
   },
   "source": [
    "The visual settings may improves the image contrast and help you locate peaks easier. \n",
    "<p align=\"center\">\n",
    "    <img width=\"200\" src=\"resources/images/settings_visual.png\">\n",
    "</p>"
   ]
  },
  {
   "cell_type": "markdown",
   "metadata": {},
   "source": [
    "Options in the spectrum settings can change what transitions are plotted, and how these transitions are marked.\n",
    "\n",
    "<p align=\"center\">\n",
    "    <img width=\"200\" src=\"resources/images/settings_spectrum.png\">\n",
    "</p>\n",
    "\n",
    "1. TRANSITIONS: transitions that **only** excites the selected subsystem selected are labelled in color; the dashed lines are other transitions. \n",
    "2. INITIAL STATE: the initial state of the transition, can either be specified in bare state label or dressed state index.\n",
    "3. EVALS COUNT: number of eigenvalues evaluated during parameter sweep.\n",
    "4. POINTS ADDED: to make the transition curve look smooth, we include more sweep points for parameter sweep, in addition to those included in the extracted data.\n",
    "5. PHOTONS: number of photons involved in the transition process. The transition frequency is ${|\\mathrm{final\\,energy} - \\mathrm{initial\\,energy}|}/{\\mathrm{photon\\,number}}$.\n",
    "\n",
    "\n",
    "**Examples**:\n",
    "\n",
    "* If you want to see the frequencies of transitions that start from the state labelled by (qubit, resonator) = (1,0) (a very good reason for this is that for fluxonium at half-flux sweet spot, the occupation probability of the state 1 may be significantly large due to small 01 transition frequency), then you may specify (1,0) as the initial state.\n",
    "\n",
    "<p align=\"center\">\n",
    "  <img width=\"600\" src=\"resources/images/initial_state_10.png\">\n",
    "</p>  \n",
    "\n",
    "* If you want to see frequencies of transitions that involves two photons, then you may specify photons to be 2.\n",
    "\n",
    "<p align=\"center\">\n",
    "  <img width=\"600\" src=\"resources/images/two_photon_process.png\">\n",
    "</p>  \n",
    "\n",
    "* To see sideband transitions (transitions that involve changes in bare state label of more than one subsystems, such as (1,0)->(0,1)), you may select \"none selected\" for the transitions option. This option highlights and labels all transitions between states with identified bare labels.\n",
    "\n",
    "<p align=\"center\">\n",
    "  <img width=\"600\" src=\"resources/images/all_transitions.png\">\n",
    "</p>  "
   ]
  },
  {
   "cell_type": "markdown",
   "metadata": {},
   "source": [
    "## Understanding the status"
   ]
  },
  {
   "cell_type": "markdown",
   "metadata": {},
   "source": [
    "## Overall tips (not limited to qfit)"
   ]
  },
  {
   "cell_type": "markdown",
   "metadata": {
    "vscode": {
     "languageId": "plaintext"
    }
   },
   "source": [
    "#### Extraction\n",
    "2. **Choose your points wisely!** More points with distinctive x-value being selected = longer calculation time. You may want to select representative points for fitting.\n",
    "3. For transitions, selecting bare or dressed labels means that you mark your initial and final states using bare indices (states are labelled by excitations of individual subsystems) or dressed indices (states are regarded as eigenstates of the entire system and labelled as 0, 1, 2, 3,... in ascending order of energy). \n",
    "\n",
    "4. If you do not know what label should be given to a group of points, you may choose the \"Unknown\" label, and come back to label it later once you have a better idea. \n",
    "\n",
    "5. Transitions may not necessarily start from the ground states; sometimes a higher-lying states are populated so the transitions from this high-lying state is activated.\n",
    "\n",
    "#### Prefit"
   ]
  }
 ],
 "metadata": {
  "language_info": {
   "name": "python"
  }
 },
 "nbformat": 4,
 "nbformat_minor": 2
}
