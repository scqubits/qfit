{
 "cells": [
  {
   "cell_type": "markdown",
   "metadata": {},
   "source": [
    "# `QFit` Advanced Tips\n",
    "\n",
    "Tianpu Zhao, Danyang Chen and Jens Koch\n",
    "\n",
    "This guide will walk you through some important tips and usages for you to make full use of `qfit`. \n",
    "\n",
    "Note: This guide is still under developement and it will be updated as we make progress in `qfit` main dev."
   ]
  },
  {
   "cell_type": "markdown",
   "metadata": {},
   "source": [
    "## 1. Data file format, the importer\n",
    "\n",
    "#### 1.1 Requirements for the data files\n",
    "`QFit` supports loading multiple spectroscopy data files and fit against all of them. There are a few requirements for the data files being loaded together:\n",
    "1. Each data file represent a single run two-tone spectroscopy experiment. It should  contains \n",
    "    - a few 2D spectroscopy arrays with the same shape (usually amplitude and phase) \n",
    "    - a few 1D arrays for coordinates. They should have the same length as the spectroscopy arrays' x or y dimension. When they are absent, especially when the data is just an image, `QFit` will generate the coordinate automatically.\n",
    "2. When being fit together, the data files should contain the same coordinates' names. \n",
    "\n",
    "With the above two requirements, `QFit` accepts various input data formats including hdf5, matlab, and images. We hope to make `qfit` as easy to use as possible. Reach out to us if you want to use `qfit` with your own data format."
   ]
  },
  {
   "cell_type": "markdown",
   "metadata": {},
   "source": [
    "#### 1.2 Importing data files\n",
    "You are given two piece of spectroscopy data on a fluxonium qubit. One scan contains a wide range of frequencies and flux biases, while the other scan is a zoom-in one around the qubit's sweet spot. Your goal is to fit the two scans together to extract the qubit's parameters."
   ]
  },
  {
   "cell_type": "code",
   "execution_count": 1,
   "metadata": {},
   "outputs": [
    {
     "name": "stderr",
     "output_type": "stream",
     "text": [
      "qt.qpa.fonts: Populating font family aliases took 90 ms. Replace uses of missing font family \"Roboto Medium\" with one that exists to avoid this cost. \n"
     ]
    }
   ],
   "source": [
    "# Quantum model for a single fluxonium\n",
    "import scqubits as scq\n",
    "fluxonium = scq.Fluxonium(\n",
    "    EJ = 3.0,\n",
    "    EC = 0.9,\n",
    "    EL = 0.25,\n",
    "    flux = 0.5,\n",
    "    cutoff = 100,\n",
    "    truncated_dim = 5,\n",
    "    id_str = \"Fluxonium\"\n",
    ")\n",
    "hilbert_space = scq.HilbertSpace([fluxonium])\n",
    "\n",
    "# launch QFit. \n",
    "from qfit import Fit\n",
    "fit = Fit(hilbert_space)"
   ]
  },
  {
   "cell_type": "markdown",
   "metadata": {},
   "source": [
    "If no file are given when initializing the `Fit` object, a window will pop up to ask for files. For this particular task, you should select two files in the ./example_data folder: \n",
    " - 'joint_qubit_twotone.h5', the broad scan\n",
    " - 'trans_twotone.h5', the zoom-in scan\n",
    "\n",
    "After that, two files will be loaded in the plot and you can manage them in the file tab.\n",
    "<p align=\"center\">\n",
    "  <img width=\"400\" src=\"resources/images/tip_file_tabs.png\">\n",
    "</p>  \n"
   ]
  },
  {
   "cell_type": "markdown",
   "metadata": {},
   "source": [
    "Two voltage, select. \n",
    "\n",
    "Auto orientation.\n",
    "\n",
    "Continue and never go back"
   ]
  },
  {
   "cell_type": "markdown",
   "metadata": {},
   "source": [
    "## 2. Calibrate flux crosstalk\n",
    "\n"
   ]
  },
  {
   "cell_type": "markdown",
   "metadata": {},
   "source": [
    "## Setting panel"
   ]
  },
  {
   "cell_type": "markdown",
   "metadata": {
    "vscode": {
     "languageId": "plaintext"
    }
   },
   "source": [
    "The visual settings may improves the image contrast and help you locate peaks easier. \n",
    "<p align=\"center\">\n",
    "    <img width=\"200\" src=\"resources/images/settings_visual.png\">\n",
    "</p>"
   ]
  },
  {
   "cell_type": "markdown",
   "metadata": {},
   "source": [
    "Options in the spectrum settings can change what transitions are plotted, and how these transitions are marked.\n",
    "\n",
    "<p align=\"center\">\n",
    "    <img width=\"200\" src=\"resources/images/settings_spectrum.png\">\n",
    "</p>\n",
    "\n",
    "1. TRANSITIONS: transitions that **only** excites the selected subsystem selected are labelled in color; the dashed lines are other transitions. \n",
    "2. INITIAL STATE: the initial state of the transition, can either be specified in bare state label or dressed state index.\n",
    "3. EVALS COUNT: number of eigenvalues evaluated during parameter sweep.\n",
    "4. POINTS ADDED: to make the transition curve look smooth, we include more sweep points for parameter sweep, in addition to those included in the extracted data.\n",
    "5. PHOTONS: number of photons involved in the transition process. The transition frequency is ${|\\mathrm{final\\,energy} - \\mathrm{initial\\,energy}|}/{\\mathrm{photon\\,number}}$.\n",
    "\n",
    "\n",
    "**Examples**:\n",
    "\n",
    "* If you want to see the frequencies of transitions that start from the state labelled by (qubit, resonator) = (1,0) (a very good reason for this is that for fluxonium at half-flux sweet spot, the occupation probability of the state 1 may be significantly large due to small 01 transition frequency), then you may specify (1,0) as the initial state.\n",
    "\n",
    "<p align=\"center\">\n",
    "  <img width=\"600\" src=\"resources/images/initial_state_10.png\">\n",
    "</p>  \n",
    "\n",
    "* If you want to see frequencies of transitions that involves two photons, then you may specify photons to be 2.\n",
    "\n",
    "<p align=\"center\">\n",
    "  <img width=\"600\" src=\"resources/images/two_photon_process.png\">\n",
    "</p>  \n",
    "\n",
    "* To see sideband transitions (transitions that involve changes in bare state label of more than one subsystems, such as (1,0)->(0,1)), you may select \"none selected\" for the transitions option. This option highlights and labels all transitions between states with identified bare labels.\n",
    "\n",
    "<p align=\"center\">\n",
    "  <img width=\"600\" src=\"resources/images/all_transitions.png\">\n",
    "</p>  "
   ]
  },
  {
   "cell_type": "markdown",
   "metadata": {},
   "source": [
    "## Understanding the status"
   ]
  },
  {
   "cell_type": "markdown",
   "metadata": {},
   "source": [
    "## Overall tips (not limited to qfit)"
   ]
  },
  {
   "cell_type": "markdown",
   "metadata": {
    "vscode": {
     "languageId": "plaintext"
    }
   },
   "source": [
    "#### Extraction\n",
    "2. **Choose your points wisely!** More points with distinctive x-value being selected = longer calculation time. You may want to select representative points for fitting.\n",
    "3. For transitions, selecting bare or dressed labels means that you mark your initial and final states using bare indices (states are labelled by excitations of individual subsystems) or dressed indices (states are regarded as eigenstates of the entire system and labelled as 0, 1, 2, 3,... in ascending order of energy). \n",
    "\n",
    "4. If you do not know what label should be given to a group of points, you may choose the \"Unknown\" label, and come back to label it later once you have a better idea. \n",
    "\n",
    "5. Transitions may not necessarily start from the ground states; sometimes a higher-lying states are populated so the transitions from this high-lying state is activated.\n",
    "\n",
    "#### Prefit\n",
    "1. "
   ]
  }
 ],
 "metadata": {
  "kernelspec": {
   "display_name": "arm311",
   "language": "python",
   "name": "python3"
  },
  "language_info": {
   "codemirror_mode": {
    "name": "ipython",
    "version": 3
   },
   "file_extension": ".py",
   "mimetype": "text/x-python",
   "name": "python",
   "nbconvert_exporter": "python",
   "pygments_lexer": "ipython3",
   "version": "3.11.4"
  }
 },
 "nbformat": 4,
 "nbformat_minor": 2
}
