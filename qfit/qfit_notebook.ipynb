{
 "cells": [
  {
   "cell_type": "code",
   "execution_count": 1,
   "metadata": {},
   "outputs": [],
   "source": [
    "import sys\n",
    "\n",
    "import PySide6.QtCore\n",
    "\n",
    "from PySide6.QtCore import QSize\n",
    "from PySide6.QtGui import QFont, QFontDatabase, QScreen\n",
    "from PySide6.QtWidgets import QApplication\n",
    "\n",
    "import matplotlib\n",
    "\n",
    "matplotlib.use(\"qtagg\")\n",
    "\n",
    "from qfit.core.mainwindow import MainWindow\n",
    "from qfit.models.measurement_data import dummy_measurement_data\n",
    "from qfit.controllers.numerical_model import test_hilbert_space"
   ]
  },
  {
   "cell_type": "code",
   "execution_count": 2,
   "metadata": {},
   "outputs": [
    {
     "name": "stderr",
     "output_type": "stream",
     "text": [
      "qt.qpa.fonts: Populating font family aliases took 93 ms. Replace uses of missing font family \"Roboto Medium\" with one that exists to avoid this cost. \n",
      "2023-08-23 17:06:02.320 python[25156:3588120] +[CATransaction synchronize] called within transaction\n",
      "2023-08-23 17:06:04.451 python[25156:3588120] +[CATransaction synchronize] called within transaction\n",
      "2023-08-23 17:06:04.555 python[25156:3588120] +[CATransaction synchronize] called within transaction\n",
      "2023-08-23 17:06:04.668 python[25156:3588120] +[CATransaction synchronize] called within transaction\n",
      "2023-08-23 17:06:04.776 python[25156:3588120] +[CATransaction synchronize] called within transaction\n",
      "2023-08-23 17:06:04.877 python[25156:3588120] +[CATransaction synchronize] called within transaction\n",
      "2023-08-23 17:06:04.935 python[25156:3588120] +[CATransaction synchronize] called within transaction\n",
      "2023-08-23 17:06:08.749 python[25156:3588120] +[CATransaction synchronize] called within transaction\n",
      "2023-08-23 17:06:08.853 python[25156:3588120] +[CATransaction synchronize] called within transaction\n",
      "2023-08-23 17:06:08.958 python[25156:3588120] +[CATransaction synchronize] called within transaction\n",
      "2023-08-23 17:06:14.047 python[25156:3588120] +[CATransaction synchronize] called within transaction\n",
      "2023-08-23 17:06:14.159 python[25156:3588120] +[CATransaction synchronize] called within transaction\n"
     ]
    },
    {
     "ename": "SystemExit",
     "evalue": "0",
     "output_type": "error",
     "traceback": [
      "An exception has occurred, use %tb to see the full traceback.\n",
      "\u001b[0;31mSystemExit\u001b[0m\u001b[0;31m:\u001b[0m 0\n"
     ]
    },
    {
     "name": "stderr",
     "output_type": "stream",
     "text": [
      "UserWarning: To exit: use 'exit', 'quit', or Ctrl-D.\n",
      " /Users/Harry/opt/miniconda3/envs/arm311/lib/python3.11/site-packages/IPython/core/interactiveshell.py: 3513"
     ]
    }
   ],
   "source": [
    "\n",
    "app = QApplication(sys.argv)\n",
    "QFontDatabase.addApplicationFont(\":/fonts/Roboto-Regular.ttf\")\n",
    "font = QFontDatabase.font(\"Roboto\", \"\", 10)\n",
    "font.setWeight(QFont.Normal)\n",
    "app.setFont(font)\n",
    "\n",
    "# fileData = readFileData('C:/Users/drjen/PycharmProjects/DataSelector/scratch/00000_twotoneVsPowerTransmission.h5')\n",
    "# fileData = readFileData('C:/Users/drjen/Desktop/Spectroscopy.JPEG')\n",
    "# fileData = readFileData(r\"C:\\Users\\drjen\\PycharmProjects\\qfit\\qfit\\scratch\\aug_summary_4_1.hdf5\")\n",
    "window = MainWindow(\n",
    "    measurementData=dummy_measurement_data(), \n",
    "    hilbert_space=test_hilbert_space(),\n",
    "    extractedData=None\n",
    ")\n",
    "# window.resizeAndCenter(maxSize)\n",
    "\n",
    "window.show()\n",
    "window.openFile(initialize=True)\n",
    "sys.exit(app.exec())\n"
   ]
  },
  {
   "cell_type": "code",
   "execution_count": null,
   "metadata": {},
   "outputs": [],
   "source": [
    "# asyncio"
   ]
  }
 ],
 "metadata": {
  "kernelspec": {
   "display_name": "arm311",
   "language": "python",
   "name": "python3"
  },
  "language_info": {
   "codemirror_mode": {
    "name": "ipython",
    "version": 3
   },
   "file_extension": ".py",
   "mimetype": "text/x-python",
   "name": "python",
   "nbconvert_exporter": "python",
   "pygments_lexer": "ipython3",
   "version": "3.11.4"
  },
  "orig_nbformat": 4
 },
 "nbformat": 4,
 "nbformat_minor": 2
}
