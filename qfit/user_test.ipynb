{
 "cells": [
  {
   "cell_type": "markdown",
   "metadata": {},
   "source": [
    "# `QFit` user tests\n",
    "\n",
    "Danyang Chen, Tianpu Zhao and Jens Koch\n",
    "\n",
    "<br />\n",
    "\n",
    "Welcome to the `QFit` user test! This guide will walk you through the basic usage of `QFit` and its features.\n",
    "\n",
    "## The task\n",
    "1. Perform parameter fitting for a capacitively-coupled fluxonium-resonator system with a provided two-tone spectroscopy data. Transition frequencies between two energy eigenstates are represented as peaks in the data.  \n",
    "2. Save and load the session.\n",
    "\n",
    "A rough guess for parameters are provided as follows:\n",
    "For the fluxonium:\n",
    "- $EJ$: 3.3\n",
    "- $EC$: 1.0\n",
    "- $EL$: 0.23\n",
    "For the resonator:\n",
    "- $\\phi_0$ (oscillator length): 1.0 (fixed)\n",
    "- $E_{\\mathrm{osc}}$: 7.0 (fixed)\n",
    "\n",
    "For the coupling (the term is $g n_{\\mathrm r} n_{\\mathrm{q}}$):\n",
    "- $g$: 0.1\n",
    "\n",
    "## Step 1: Data Preparation (no action needed)\n",
    "Performing a two-tone spectroscopy experiment and arrange it in a proper form. In this example, the two-tone spec is provided."
   ]
  },
  {
   "cell_type": "markdown",
   "metadata": {},
   "source": [
    "## Step 2: Build a Numerical Model\n",
    "Create a numerical model of the quantum system using `scqubits.HilbertSpace`"
   ]
  },
  {
   "cell_type": "code",
   "execution_count": 1,
   "metadata": {},
   "outputs": [],
   "source": [
    "import scqubits as scq"
   ]
  },
  {
   "cell_type": "code",
   "execution_count": 2,
   "metadata": {},
   "outputs": [],
   "source": [
    "resonator = scq.Oscillator(\n",
    "    E_osc = 3,\n",
    "    l_osc = 1.0,\n",
    "    truncated_dim = 4,\n",
    "    id_str = \"resonator\"\n",
    ")\n",
    "    \n",
    "fluxonium = scq.Fluxonium(\n",
    "    EJ = 7.0,\n",
    "    EC = 1,\n",
    "    EL = 0.2,\n",
    "    flux = 0.0,\n",
    "    cutoff = 100,\n",
    "    truncated_dim = 5,\n",
    "    id_str = \"fluxonium\"\n",
    ")\n",
    "\n",
    "hilbertspace = scq.HilbertSpace([resonator, fluxonium])\n",
    "\n",
    "hilbertspace.add_interaction(\n",
    "    g = 1,\n",
    "    op1 = resonator.n_operator,\n",
    "    op2 = fluxonium.n_operator,\n",
    "    add_hc = False,\n",
    "    id_str = \"res-qubit\"\n",
    ")\n"
   ]
  },
  {
   "cell_type": "markdown",
   "metadata": {},
   "source": [
    "## Step 3: Run `QFit`"
   ]
  },
  {
   "cell_type": "markdown",
   "metadata": {},
   "source": [
    "Open a GUI using `Fit(<HilbertSpace>)` by running the following code in a Jupyter notebook or a Python script:"
   ]
  },
  {
   "cell_type": "code",
   "execution_count": 3,
   "metadata": {},
   "outputs": [
    {
     "name": "stderr",
     "output_type": "stream",
     "text": [
      "qt.qpa.fonts: Populating font family aliases took 203 ms. Replace uses of missing font family \"Roboto Medium\" with one that exists to avoid this cost. \n",
      "2023-09-18 17:48:58.836 python[43092:1547589] +[CATransaction synchronize] called within transaction\n"
     ]
    }
   ],
   "source": [
    "from qfit import Fit\n",
    "qfit_app = Fit(hilbertspace)"
   ]
  },
  {
   "cell_type": "markdown",
   "metadata": {},
   "source": [
    "Once you run the code, you will be asked to provide a date file. After that, you will \n",
    "see 4 sections: **Extract**, **Tag**, **Pre-Fit** and **Fit**. We will lead you through\n",
    "each section one by one."
   ]
  },
  {
   "cell_type": "markdown",
   "metadata": {},
   "source": [
    "## Step 4: Save and Load"
   ]
  },
  {
   "cell_type": "markdown",
   "metadata": {},
   "source": [
    "The session can be saved directly in the GUI"
   ]
  },
  {
   "cell_type": "markdown",
   "metadata": {},
   "source": [
    "After saving the session, you can load the file in two ways:\n",
    "\n",
    "1. Run through the notebook "
   ]
  },
  {
   "cell_type": "code",
   "execution_count": null,
   "metadata": {},
   "outputs": [],
   "source": [
    "# qfit_load = Fit.open(<your file path here>)"
   ]
  },
  {
   "cell_type": "markdown",
   "metadata": {},
   "source": [
    "2. Click open from the app window (operate this in the app)"
   ]
  },
  {
   "cell_type": "markdown",
   "metadata": {},
   "source": []
  }
 ],
 "metadata": {
  "kernelspec": {
   "display_name": "arm311",
   "language": "python",
   "name": "python3"
  },
  "language_info": {
   "codemirror_mode": {
    "name": "ipython",
    "version": 3
   },
   "file_extension": ".py",
   "mimetype": "text/x-python",
   "name": "python",
   "nbconvert_exporter": "python",
   "pygments_lexer": "ipython3",
   "version": "3.11.4"
  },
  "orig_nbformat": 4
 },
 "nbformat": 4,
 "nbformat_minor": 2
}
