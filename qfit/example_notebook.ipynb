{
 "cells": [
  {
   "cell_type": "markdown",
   "metadata": {},
   "source": [
    "# Introducing `QFit` \n",
    "\n",
    "Danyang Chen, Tianpu Zhao and Jens Koch\n",
    "\n",
    "<br />\n",
    "\n",
    "Welcome to the `QFit` user guide! This guide will walk you through the basic usage of `QFit` and its features.\n",
    "\n",
    "**TODO:** Introduction to `QFit` and its features.\n",
    "\n",
    "## Step 1: Data Preparation\n",
    "Performing a two-tone spectroscopy experiment and arrange it in a proper \n",
    "\n",
    "**TODO:** Ask Jens for adding introduction to the supported data format"
   ]
  },
  {
   "cell_type": "markdown",
   "metadata": {},
   "source": [
    "## Step 2: Build a Numerical Model\n",
    "Create a numerical model of the quantum system using `scqubits.HilbertSpace`"
   ]
  },
  {
   "cell_type": "code",
   "execution_count": 1,
   "metadata": {},
   "outputs": [],
   "source": [
    "import scqubits as scq"
   ]
  },
  {
   "cell_type": "code",
   "execution_count": 2,
   "metadata": {},
   "outputs": [],
   "source": [
    "resonator = scq.Oscillator(\n",
    "    E_osc = 3,\n",
    "    l_osc = 1.0,\n",
    "    truncated_dim = 4,\n",
    "    id_str = \"resonator\"\n",
    ")\n",
    "    \n",
    "fluxonium = scq.Fluxonium(\n",
    "    EJ = 7.0,\n",
    "    EC = 1,\n",
    "    EL = 0.2,\n",
    "    flux = 0.0,\n",
    "    cutoff = 100,\n",
    "    truncated_dim = 5,\n",
    "    id_str = \"fluxonium\"\n",
    ")\n",
    "\n",
    "hilbertspace = scq.HilbertSpace([resonator, fluxonium])\n",
    "\n",
    "hilbertspace.add_interaction(\n",
    "    g = 1,\n",
    "    op1 = resonator.n_operator,\n",
    "    op2 = fluxonium.n_operator,\n",
    "    add_hc = False,\n",
    "    id_str = \"res-qubit\"\n",
    ")\n"
   ]
  },
  {
   "cell_type": "code",
   "execution_count": 3,
   "metadata": {},
   "outputs": [],
   "source": [
    "resonator = scq.Oscillator(\n",
    "    E_osc = 3,\n",
    "    l_osc = 1.0,\n",
    "    truncated_dim = 4,\n",
    "    id_str = \"resonator\"\n",
    ")\n",
    "    \n",
    "transmon = scq.Transmon(\n",
    "    EJ = 7.0,\n",
    "    EC = 1,\n",
    "    ng = 0.0,\n",
    "    ncut = 20,\n",
    "    truncated_dim = 5,\n",
    "    id_str = \"transmon\"\n",
    ")\n",
    "\n",
    "hilbertspace = scq.HilbertSpace([resonator, transmon])\n",
    "\n",
    "hilbertspace.add_interaction(\n",
    "    g = 1,\n",
    "    op1 = resonator.n_operator,\n",
    "    op2 = transmon.n_operator,\n",
    "    add_hc = False,\n",
    "    id_str = \"res-qubit\"\n",
    ")\n"
   ]
  },
  {
   "cell_type": "code",
   "execution_count": 4,
   "metadata": {},
   "outputs": [],
   "source": [
    "resonator = scq.Oscillator(\n",
    "    E_osc = 3,\n",
    "    l_osc = 1.0,\n",
    "    truncated_dim = 4,\n",
    "    id_str = \"resonator\"\n",
    ")\n",
    "    \n",
    "transmon = scq.TunableTransmon(\n",
    "    EJmax = 7.0,\n",
    "    EC = 1,\n",
    "    ng = 0.0,\n",
    "    d = 0,\n",
    "    flux = 0.0,\n",
    "    ncut = 20,\n",
    "    truncated_dim = 5,\n",
    "    id_str = \"transmon\"\n",
    ")\n",
    "\n",
    "hilbertspace = scq.HilbertSpace([resonator, transmon])\n",
    "\n",
    "hilbertspace.add_interaction(\n",
    "    g = 1,\n",
    "    op1 = resonator.n_operator,\n",
    "    op2 = transmon.n_operator,\n",
    "    add_hc = False,\n",
    "    id_str = \"res-qubit\"\n",
    ")\n"
   ]
  },
  {
   "cell_type": "markdown",
   "metadata": {},
   "source": [
    "## Step 3: Run `QFit`"
   ]
  },
  {
   "cell_type": "markdown",
   "metadata": {},
   "source": [
    "#### 3.1: Open a GUI using `Fit(<HilbertSpace>)` \n",
    "\n",
    "Open the GUI by running the following code in a Jupyter notebook or a Python script:"
   ]
  },
  {
   "cell_type": "code",
   "execution_count": 5,
   "metadata": {},
   "outputs": [
    {
     "name": "stderr",
     "output_type": "stream",
     "text": [
      "qt.qpa.fonts: Populating font family aliases took 82 ms. Replace uses of missing font family \"Roboto Medium\" with one that exists to avoid this cost. \n",
      "2023-09-13 21:47:59.328 python[32204:837145] +[CATransaction synchronize] called within transaction\n"
     ]
    }
   ],
   "source": [
    "from qfit import Fit\n",
    "qfit_app = Fit(hilbertspace)"
   ]
  },
  {
   "cell_type": "markdown",
   "metadata": {},
   "source": [
    "Once you run the code, you will be asked to provide a date file. After that, you will \n",
    "see 4 sections: **Extract**, **Tag**, **Pre-Fit** and **Fit**. We will lead you through\n",
    "each section one by one."
   ]
  },
  {
   "cell_type": "markdown",
   "metadata": {},
   "source": [
    "#### 3.2: Extract\n",
    "\n",
    "\n"
   ]
  },
  {
   "cell_type": "code",
   "execution_count": 6,
   "metadata": {},
   "outputs": [
    {
     "data": {
      "text/plain": [
       "True"
      ]
     },
     "execution_count": 6,
     "metadata": {},
     "output_type": "execute_result"
    }
   ],
   "source": [
    "di = {\"a\": \"aa\", \"b\": \"bb\", \"c\": \"aa\"}\n",
    "set(di.values()) == set([\"aa\", \"bb\"])"
   ]
  },
  {
   "cell_type": "markdown",
   "metadata": {},
   "source": []
  },
  {
   "cell_type": "markdown",
   "metadata": {},
   "source": [
    "## Step 4: Save and Load"
   ]
  }
 ],
 "metadata": {
  "kernelspec": {
   "display_name": "arm311",
   "language": "python",
   "name": "python3"
  },
  "language_info": {
   "codemirror_mode": {
    "name": "ipython",
    "version": 3
   },
   "file_extension": ".py",
   "mimetype": "text/x-python",
   "name": "python",
   "nbconvert_exporter": "python",
   "pygments_lexer": "ipython3",
   "version": "3.11.4"
  },
  "orig_nbformat": 4
 },
 "nbformat": 4,
 "nbformat_minor": 2
}
