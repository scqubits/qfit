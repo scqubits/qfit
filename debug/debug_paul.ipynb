{
 "cells": [
  {
   "cell_type": "code",
   "execution_count": 2,
   "metadata": {},
   "outputs": [],
   "source": [
    "import qfit\n",
    "from qfit import Fit"
   ]
  },
  {
   "cell_type": "code",
   "execution_count": 3,
   "metadata": {},
   "outputs": [
    {
     "name": "stderr",
     "output_type": "stream",
     "text": [
      "qt.qpa.fonts: Populating font family aliases took 134 ms. Replace uses of missing font family \"Roboto Medium\" with one that exists to avoid this cost. \n"
     ]
    },
    {
     "name": "stderr",
     "output_type": "stream",
     "text": [
      "Traceback (most recent call last):\n",
      "  File \"/Users/pacosynthesis/Desktop/ScienceTech/Research/Superconducting_qubit_NU/qfit/qfit/qfit/models/numerical_model.py\", line 288, in storeSweepOption\n",
      "    self.sweep2SpecMSE(sweepUsage=self.sweepUsage)\n",
      "  File \"/Users/pacosynthesis/Desktop/ScienceTech/Research/Superconducting_qubit_NU/qfit/qfit/qfit/models/numerical_model.py\", line 746, in sweep2SpecMSE\n",
      "    self.emitReadyToPlot()\n",
      "  File \"/Users/pacosynthesis/Desktop/ScienceTech/Research/Superconducting_qubit_NU/qfit/qfit/qfit/models/numerical_model.py\", line 357, in emitReadyToPlot\n",
      "    highlight_specdata = self._currentSweep.transitions(\n",
      "                         ^^^^^^^^^^^^^^^^^^^^^^^^^^^^^^^\n",
      "  File \"/Users/pacosynthesis/Desktop/ScienceTech/Research/Superconducting_qubit_NU/Codes/scqubits_Tianpu/scqubits/core/param_sweep.py\", line 597, in transitions\n",
      "    initial_energies = initial_energy_lookup_func(initial_state)\n",
      "                       ^^^^^^^^^^^^^^^^^^^^^^^^^^^^^^^^^^^^^^^^^\n",
      "  File \"/Users/pacosynthesis/Desktop/ScienceTech/Research/Superconducting_qubit_NU/Codes/scqubits_Tianpu/scqubits/utils/misc.py\", line 205, in wrapper\n",
      "    raise Exception(\n",
      "Exception: Lookup data not found. For HilbertSpace: data must be generated with .generate_lookup(). For ParameterSweep: data should be automatically generated unless disabled manually. In the latter case, apply .run().\n",
      "The cached device pixel ratio value was stale on window expose.  Please file a QTBUG which explains how to reproduce.\n",
      "Traceback (most recent call last):\n",
      "  File \"/Users/pacosynthesis/Desktop/ScienceTech/Research/Superconducting_qubit_NU/qfit/qfit/qfit/models/numerical_model.py\", line 288, in storeSweepOption\n",
      "    self.sweep2SpecMSE(sweepUsage=self.sweepUsage)\n",
      "  File \"/Users/pacosynthesis/Desktop/ScienceTech/Research/Superconducting_qubit_NU/qfit/qfit/qfit/models/numerical_model.py\", line 746, in sweep2SpecMSE\n",
      "    self.emitReadyToPlot()\n",
      "  File \"/Users/pacosynthesis/Desktop/ScienceTech/Research/Superconducting_qubit_NU/qfit/qfit/qfit/models/numerical_model.py\", line 357, in emitReadyToPlot\n",
      "    highlight_specdata = self._currentSweep.transitions(\n",
      "                         ^^^^^^^^^^^^^^^^^^^^^^^^^^^^^^^\n",
      "  File \"/Users/pacosynthesis/Desktop/ScienceTech/Research/Superconducting_qubit_NU/Codes/scqubits_Tianpu/scqubits/core/param_sweep.py\", line 597, in transitions\n",
      "    initial_energies = initial_energy_lookup_func(initial_state)\n",
      "                       ^^^^^^^^^^^^^^^^^^^^^^^^^^^^^^^^^^^^^^^^^\n",
      "  File \"/Users/pacosynthesis/Desktop/ScienceTech/Research/Superconducting_qubit_NU/Codes/scqubits_Tianpu/scqubits/utils/misc.py\", line 205, in wrapper\n",
      "    raise Exception(\n",
      "Exception: Lookup data not found. For HilbertSpace: data must be generated with .generate_lookup(). For ParameterSweep: data should be automatically generated unless disabled manually. In the latter case, apply .run().\n",
      "Traceback (most recent call last):\n",
      "  File \"/Users/pacosynthesis/Desktop/ScienceTech/Research/Superconducting_qubit_NU/qfit/qfit/qfit/models/numerical_model.py\", line 288, in storeSweepOption\n",
      "    self.sweep2SpecMSE(sweepUsage=self.sweepUsage)\n",
      "  File \"/Users/pacosynthesis/Desktop/ScienceTech/Research/Superconducting_qubit_NU/qfit/qfit/qfit/models/numerical_model.py\", line 746, in sweep2SpecMSE\n",
      "    self.emitReadyToPlot()\n",
      "  File \"/Users/pacosynthesis/Desktop/ScienceTech/Research/Superconducting_qubit_NU/qfit/qfit/qfit/models/numerical_model.py\", line 357, in emitReadyToPlot\n",
      "    highlight_specdata = self._currentSweep.transitions(\n",
      "                         ^^^^^^^^^^^^^^^^^^^^^^^^^^^^^^^\n",
      "  File \"/Users/pacosynthesis/Desktop/ScienceTech/Research/Superconducting_qubit_NU/Codes/scqubits_Tianpu/scqubits/core/param_sweep.py\", line 597, in transitions\n",
      "    initial_energies = initial_energy_lookup_func(initial_state)\n",
      "                       ^^^^^^^^^^^^^^^^^^^^^^^^^^^^^^^^^^^^^^^^^\n",
      "  File \"/Users/pacosynthesis/Desktop/ScienceTech/Research/Superconducting_qubit_NU/Codes/scqubits_Tianpu/scqubits/utils/misc.py\", line 205, in wrapper\n",
      "    raise Exception(\n",
      "Exception: Lookup data not found. For HilbertSpace: data must be generated with .generate_lookup(). For ParameterSweep: data should be automatically generated unless disabled manually. In the latter case, apply .run().\n",
      "Traceback (most recent call last):\n",
      "  File \"/Users/pacosynthesis/Desktop/ScienceTech/Research/Superconducting_qubit_NU/qfit/qfit/qfit/models/numerical_model.py\", line 288, in storeSweepOption\n",
      "    self.sweep2SpecMSE(sweepUsage=self.sweepUsage)\n",
      "  File \"/Users/pacosynthesis/Desktop/ScienceTech/Research/Superconducting_qubit_NU/qfit/qfit/qfit/models/numerical_model.py\", line 746, in sweep2SpecMSE\n",
      "    self.emitReadyToPlot()\n",
      "  File \"/Users/pacosynthesis/Desktop/ScienceTech/Research/Superconducting_qubit_NU/qfit/qfit/qfit/models/numerical_model.py\", line 357, in emitReadyToPlot\n",
      "    highlight_specdata = self._currentSweep.transitions(\n",
      "                         ^^^^^^^^^^^^^^^^^^^^^^^^^^^^^^^\n",
      "  File \"/Users/pacosynthesis/Desktop/ScienceTech/Research/Superconducting_qubit_NU/Codes/scqubits_Tianpu/scqubits/core/param_sweep.py\", line 597, in transitions\n",
      "    initial_energies = initial_energy_lookup_func(initial_state)\n",
      "                       ^^^^^^^^^^^^^^^^^^^^^^^^^^^^^^^^^^^^^^^^^\n",
      "  File \"/Users/pacosynthesis/Desktop/ScienceTech/Research/Superconducting_qubit_NU/Codes/scqubits_Tianpu/scqubits/utils/misc.py\", line 205, in wrapper\n",
      "    raise Exception(\n",
      "Exception: Lookup data not found. For HilbertSpace: data must be generated with .generate_lookup(). For ParameterSweep: data should be automatically generated unless disabled manually. In the latter case, apply .run().\n",
      "Traceback (most recent call last):\n",
      "  File \"/Users/pacosynthesis/Desktop/ScienceTech/Research/Superconducting_qubit_NU/qfit/qfit/qfit/models/numerical_model.py\", line 288, in storeSweepOption\n",
      "    self.sweep2SpecMSE(sweepUsage=self.sweepUsage)\n",
      "  File \"/Users/pacosynthesis/Desktop/ScienceTech/Research/Superconducting_qubit_NU/qfit/qfit/qfit/models/numerical_model.py\", line 746, in sweep2SpecMSE\n",
      "    self.emitReadyToPlot()\n",
      "  File \"/Users/pacosynthesis/Desktop/ScienceTech/Research/Superconducting_qubit_NU/qfit/qfit/qfit/models/numerical_model.py\", line 357, in emitReadyToPlot\n",
      "    highlight_specdata = self._currentSweep.transitions(\n",
      "                         ^^^^^^^^^^^^^^^^^^^^^^^^^^^^^^^\n",
      "  File \"/Users/pacosynthesis/Desktop/ScienceTech/Research/Superconducting_qubit_NU/Codes/scqubits_Tianpu/scqubits/core/param_sweep.py\", line 597, in transitions\n",
      "    initial_energies = initial_energy_lookup_func(initial_state)\n",
      "                       ^^^^^^^^^^^^^^^^^^^^^^^^^^^^^^^^^^^^^^^^^\n",
      "  File \"/Users/pacosynthesis/Desktop/ScienceTech/Research/Superconducting_qubit_NU/Codes/scqubits_Tianpu/scqubits/utils/misc.py\", line 205, in wrapper\n",
      "    raise Exception(\n",
      "Exception: Lookup data not found. For HilbertSpace: data must be generated with .generate_lookup(). For ParameterSweep: data should be automatically generated unless disabled manually. In the latter case, apply .run().\n",
      "Traceback (most recent call last):\n",
      "  File \"/Users/pacosynthesis/Desktop/ScienceTech/Research/Superconducting_qubit_NU/qfit/qfit/qfit/models/numerical_model.py\", line 288, in storeSweepOption\n",
      "    self.sweep2SpecMSE(sweepUsage=self.sweepUsage)\n",
      "  File \"/Users/pacosynthesis/Desktop/ScienceTech/Research/Superconducting_qubit_NU/qfit/qfit/qfit/models/numerical_model.py\", line 746, in sweep2SpecMSE\n",
      "    self.emitReadyToPlot()\n",
      "  File \"/Users/pacosynthesis/Desktop/ScienceTech/Research/Superconducting_qubit_NU/qfit/qfit/qfit/models/numerical_model.py\", line 357, in emitReadyToPlot\n",
      "    highlight_specdata = self._currentSweep.transitions(\n",
      "                         ^^^^^^^^^^^^^^^^^^^^^^^^^^^^^^^\n",
      "  File \"/Users/pacosynthesis/Desktop/ScienceTech/Research/Superconducting_qubit_NU/Codes/scqubits_Tianpu/scqubits/core/param_sweep.py\", line 597, in transitions\n",
      "    initial_energies = initial_energy_lookup_func(initial_state)\n",
      "                       ^^^^^^^^^^^^^^^^^^^^^^^^^^^^^^^^^^^^^^^^^\n",
      "  File \"/Users/pacosynthesis/Desktop/ScienceTech/Research/Superconducting_qubit_NU/Codes/scqubits_Tianpu/scqubits/utils/misc.py\", line 205, in wrapper\n",
      "    raise Exception(\n",
      "Exception: Lookup data not found. For HilbertSpace: data must be generated with .generate_lookup(). For ParameterSweep: data should be automatically generated unless disabled manually. In the latter case, apply .run().\n",
      "The cached device pixel ratio value was stale on window expose.  Please file a QTBUG which explains how to reproduce.\n",
      "The cached device pixel ratio value was stale on window expose.  Please file a QTBUG which explains how to reproduce.\n",
      "Traceback (most recent call last):\n",
      "  File \"/Users/pacosynthesis/Desktop/ScienceTech/Research/Superconducting_qubit_NU/qfit/qfit/qfit/controllers/io_ctrl.py\", line 433, in closeByMainWindow\n",
      "    status = self.closeAppAfterSaving()\n",
      "             ^^^^^^^^^^^^^^^^^^^^^^^^^^\n",
      "  File \"/Users/pacosynthesis/Desktop/ScienceTech/Research/Superconducting_qubit_NU/qfit/qfit/qfit/controllers/io_ctrl.py\", line 267, in closeAppAfterSaving\n",
      "    assert registryDictFromFile is not None, \"File not found\"\n",
      "           ^^^^^^^^^^^^^^^^^^^^^^^^^^^^^^^^\n",
      "AssertionError: File not found\n"
     ]
    }
   ],
   "source": [
    "fit_file = Fit.open(\"./qfit_feedline_5_3_2024.qfit\")"
   ]
  },
  {
   "cell_type": "code",
   "execution_count": null,
   "metadata": {},
   "outputs": [],
   "source": []
  }
 ],
 "metadata": {
  "kernelspec": {
   "display_name": "qfit_test2",
   "language": "python",
   "name": "python3"
  },
  "language_info": {
   "codemirror_mode": {
    "name": "ipython",
    "version": 3
   },
   "file_extension": ".py",
   "mimetype": "text/x-python",
   "name": "python",
   "nbconvert_exporter": "python",
   "pygments_lexer": "ipython3",
   "version": "3.11.4"
  }
 },
 "nbformat": 4,
 "nbformat_minor": 2
}
