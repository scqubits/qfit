{
 "cells": [
  {
   "cell_type": "markdown",
   "metadata": {},
   "source": [
    "# `QFit` Quick Start\n",
    "\n",
    "Tianpu Zhao, Danyang Chen and Jens Koch"
   ]
  },
  {
   "cell_type": "markdown",
   "metadata": {},
   "source": [
    "This guide will walk you through the basic usage of `QFit` and its features. We have prepared a simple task for you to practice fitting with `QFit`. Don't worry, we've also prepared a detailed guide for you to follow. \n",
    "\n",
    "## The task\n",
    "You are given a **superconducting circuit** composed of a fluxonium qubit and a resonator. They are coupled by a capacitor. The circuit is shown below:\n",
    "<p align=\"center\">\n",
    "  <img width=\"300\" src=\"resources/images/example_circuit.png\">\n",
    "</p>  \n",
    "\n",
    "This circuit is described by the following **Hamiltonian**:\n",
    "$$\n",
    "H = H_{\\rm res} + H_{\\rm qubit} + H_{\\rm int}\n",
    "$$\n",
    "where\n",
    "\\begin{align*}\n",
    "H_{\\rm res} &= E_{\\rm osc} a^\\dagger a \\\\\n",
    "H_{\\rm qubit} &= 4E_C n^2 - E_J \\cos(\\varphi+2\\pi\\Phi_{\\rm ext}/\\Phi_0) + \\frac{1}{2}E_L\\varphi^2 \\\\\n",
    "H_{\\rm int} &= g \\frac{-i}{\\sqrt{2}l_{\\rm osc}} (a-a^\\dagger) n\n",
    "\\end{align*}\n",
    "where $a$ is the annihilation operator of the resonator, $n$ ($\\varphi$) is the number (phase) operator of the qubit. $\\Phi_{\\rm ext}$ is the external flux, and $\\Phi_0$ is the flux quantum.  Other circuit parameters and their estimates are listed below:\n",
    "\n",
    "| Parameter | Symbol | Rough Estimate |\n",
    "| --- | --- | --- |\n",
    "| Josephson Energy | $E_J$ | $3.0\\ GHz\\times h$ |\n",
    "| Charging Energy | $E_C$ | $0.9\\ GHz\\times h$ |\n",
    "| Inductive Energy | $E_L$ | $0.25\\ GHz\\times h$ |\n",
    "| Oscillator Length | $l_{\\rm osc}$ | $1.0$ |\n",
    "| Resonator Frequency | $E_{\\mathrm{osc}}$ | $5.6\\ GHz\\times h$ |\n",
    "| Coupling Strength | $g$ | $1.0 \\ GHz\\times h$ |\n",
    "\n",
    "To determine the parameter described above, one can perform a **two-tone spectroscopy experiment**. In the experiment, two tones of rf drive are applied to the system - a tone with frequency $f_{\\rm d}$ to the qubit and a tone with frequency $E_{\\rm osc} / h$ to the resonator. One then measure the transmission or reflection of the rf signal through the resonator. By performing such measurement for different $f_{\\rm d}$ and $\\Phi_{\\rm ext}$, one can obtain the following data:"
   ]
  },
  {
   "cell_type": "code",
   "execution_count": 2,
   "metadata": {},
   "outputs": [
    {
     "name": "stdout",
     "output_type": "stream",
     "text": [
      "Below is the information of the data and the shape of elements:\n",
      "freq (2793,)\n",
      "mags (81, 2793)\n",
      "voltage (81,)\n"
     ]
    }
   ],
   "source": [
    "import h5py\n",
    "import numpy as np\n",
    "import matplotlib.pyplot as plt\n",
    "\n",
    "# Load the data in the h5 file (you don't need to do this while using QFit)\n",
    "print(\"Below is the information of the data and the shape of elements:\")\n",
    "with h5py.File(\"./example_data/joint_qubit_twotone.h5\", \"r\") as file:\n",
    "    def print_info(name, obj):\n",
    "        print(name, obj.shape)\n",
    "    file.visititems(print_info)\n",
    "\n",
    "    data = np.array(file[\"mags\"])\n",
    "    f_d, Phi_ext = np.meshgrid(file[\"freq\"], file[\"voltage\"])\n",
    "\n",
    "# Plot the data\n",
    "plt.figure(figsize=(7, 4))\n",
    "plt.pcolormesh(f_d, Phi_ext, data, cmap=\"PuOr\", rasterized=True)\n",
    "plt.colorbar()\n",
    "plt.xlabel(\"Drive frequency [GHz]\")\n",
    "plt.ylabel(\"Voltage to the flux bias line [mV]\")\n",
    "plt.title(\"Qubit spectroscopy\")\n",
    "plt.show()"
   ]
  },
  {
   "cell_type": "markdown",
   "metadata": {},
   "source": [
    "In the data, the peaks represent resonances between the $f_{\\rm d}$ and the transition frequencies. **Your task is to fit the data and extract the parameters.** - This is where `QFit` comes in. \n",
    "\n",
    "<br>\n",
    "\n",
    "**Tips**\n",
    "\n",
    "`QFit` supports various input data format including hdf5, matlab, and even images. We hope to make `QFit` as easy to use as possible. Reach out to us if you want to use `QFit` with your own data format.\n",
    "\n",
    "\n",
    "## Step 1: Build a numerical model\n",
    "We have helped you to create a numerical model of the quantum system using `scqubits.HilbertSpace`. To see the usage of `scqubits` in detail, please refer to the [scqubits documentation](https://scqubits.readthedocs.io/en/latest/)."
   ]
  },
  {
   "cell_type": "code",
   "execution_count": 1,
   "metadata": {},
   "outputs": [],
   "source": [
    "import scqubits as scq\n",
    "\n",
    "# resonator = scq.Oscillator(\n",
    "#     E_osc = 5.6,\n",
    "#     l_osc = 1.0,\n",
    "#     truncated_dim = 4,\n",
    "#     id_str = \"resonator\"\n",
    "# )\n",
    "\n",
    "TLS = scq.GenericQubit(\n",
    "    E = 5.6,\n",
    "    id_str=\"TLS\"\n",
    ")\n",
    "\n",
    "fluxonium = scq.Fluxonium(\n",
    "    EJ = 3.0,\n",
    "    EC = 0.9,\n",
    "    EL = 0.25,\n",
    "    flux = 0.5,\n",
    "    cutoff = 100,\n",
    "    truncated_dim = 5,\n",
    "    id_str = \"fluxonium\"\n",
    ")\n",
    "\n",
    "hilbertspace = scq.HilbertSpace([TLS, fluxonium])\n",
    "\n",
    "hilbertspace.add_interaction(\n",
    "    g = 1,\n",
    "    # op1 = resonator.n_operator,\n",
    "    op1 = TLS.sy_operator,\n",
    "    op2 = fluxonium.n_operator,\n",
    "    add_hc = False,\n",
    "    id_str = \"res-qubit\"\n",
    ")"
   ]
  },
  {
   "cell_type": "markdown",
   "metadata": {},
   "source": [
    "## Step 2: Run `QFit` and fit the data\n",
    "Open a GUI using `Fit(<HilbertSpace>)`. An GUI will pop up and we'll guide you through the GUI in the next few subsections. You may treat the following sections as a documentation and refer to it if necessary. Also you may click on the ? buttons for help."
   ]
  },
  {
   "cell_type": "code",
   "execution_count": null,
   "metadata": {},
   "outputs": [
    {
     "name": "stdout",
     "output_type": "stream",
     "text": [
      "switch to page 1\n",
      "Updated element: spectrum\n",
      "Updated element: measurement\n",
      "Updated element: active_extractions\n",
      "Updated element: all_extractions\n",
      "Updated element: extraction_vlines\n",
      "Updated element: spectrum\n",
      "switch to page 0\n",
      "Updated element: measurement\n",
      "Updated element: active_extractions\n",
      "Updated element: all_extractions\n",
      "Updated element: extraction_vlines\n",
      "Updated element: spectrum\n"
     ]
    }
   ],
   "source": [
    "from qfit import Fit\n",
    "fit = Fit(hilbertspace, \"./example_data/joint_qubit_twotone.h5\")"
   ]
  },
  {
   "cell_type": "code",
   "execution_count": null,
   "metadata": {},
   "outputs": [
    {
     "name": "stdout",
     "output_type": "stream",
     "text": [
      "Updated element: measurement\n"
     ]
    }
   ],
   "source": [
    "fit.window.measurementData.emitReadyToPlot()"
   ]
  },
  {
   "cell_type": "code",
   "execution_count": null,
   "metadata": {},
   "outputs": [
    {
     "data": {
      "text/plain": [
       "(0, 1)"
      ]
     },
     "execution_count": 4,
     "metadata": {},
     "output_type": "execute_result"
    }
   ],
   "source": [
    "fit.window.ui.mplFigureCanvas.ylim"
   ]
  },
  {
   "cell_type": "code",
   "execution_count": null,
   "metadata": {},
   "outputs": [
    {
     "name": "stdout",
     "output_type": "stream",
     "text": [
      "SELECT already active\n",
      "SELECT already active\n",
      "SELECT already active\n",
      "SELECT already active\n",
      "SELECT already active\n",
      "SELECT already active\n",
      "SELECT already active\n",
      "switch to page 1\n",
      "Updated element: extraction_vlines\n",
      "Updated element: active_extractions\n",
      "Updated element: all_extractions\n",
      "Updated element: spectrum\n",
      "Updated element: measurement\n",
      "Updated element: extraction_vlines\n",
      "Updated element: active_extractions\n",
      "Updated element: all_extractions\n",
      "Updated element: spectrum\n",
      "distinctXUpdated\n",
      "All extracted data is ready to plot\n",
      "Updated element: active_extractions\n",
      "Updated element: all_extractions\n",
      "Updated element: extraction_vlines\n",
      "distinctXUpdated\n",
      "All extracted data is ready to plot\n",
      "Updated element: active_extractions\n",
      "Updated element: all_extractions\n",
      "Updated element: extraction_vlines\n",
      "distinctXUpdated\n",
      "All extracted data is ready to plot\n",
      "Updated element: active_extractions\n",
      "Updated element: all_extractions\n",
      "Updated element: extraction_vlines\n",
      "distinctXUpdated\n",
      "All extracted data is ready to plot\n",
      "Updated element: active_extractions\n",
      "Updated element: all_extractions\n",
      "Updated element: extraction_vlines\n",
      "distinctXUpdated\n",
      "All extracted data is ready to plot\n",
      "Updated element: active_extractions\n",
      "Updated element: all_extractions\n",
      "Updated element: extraction_vlines\n",
      "distinctXUpdated\n",
      "All extracted data is ready to plot\n",
      "Updated element: active_extractions\n",
      "Updated element: all_extractions\n",
      "Updated element: extraction_vlines\n",
      "distinctXUpdated\n",
      "All extracted data is ready to plot\n",
      "Updated element: active_extractions\n",
      "Updated element: all_extractions\n",
      "Updated element: extraction_vlines\n",
      "distinctXUpdated\n",
      "All extracted data is ready to plot\n",
      "Updated element: active_extractions\n",
      "Updated element: all_extractions\n",
      "Updated element: extraction_vlines\n",
      "distinctXUpdated\n",
      "All extracted data is ready to plot\n",
      "Updated element: active_extractions\n",
      "Updated element: all_extractions\n",
      "Updated element: extraction_vlines\n",
      "distinctXUpdated\n",
      "All extracted data is ready to plot\n",
      "Updated element: active_extractions\n",
      "Updated element: all_extractions\n",
      "Updated element: extraction_vlines\n",
      "distinctXUpdated\n",
      "All extracted data is ready to plot\n",
      "Updated element: active_extractions\n",
      "Updated element: all_extractions\n",
      "Updated element: extraction_vlines\n",
      "Recording x and y limits, x:  (1.8, 6.0) y:  (-69.0, 201.0)\n",
      "switch to page 2\n",
      "Updated element: measurement\n",
      "Updated element: extraction_vlines\n",
      "Updated element: active_extractions\n",
      "Updated element: all_extractions\n",
      "Updated element: spectrum\n"
     ]
    },
    {
     "name": "stderr",
     "output_type": "stream",
     "text": [
      "Traceback (most recent call last):\n",
      "  File \"/Users/Harry/Documents/Programs/qfit/qfit/core/mainwindow.py\", line 1015, in onPrefitPlotClicked\n",
      "    self.quantumModel.sweep2SpecNMSE(\n",
      "  File \"/Users/Harry/Documents/Programs/qfit/qfit/models/numerical_model.py\", line 596, in sweep2SpecNMSE\n",
      "    self.sweep.run()\n",
      "  File \"/Users/Harry/Documents/Programs/Packages/scqubits/scqubits/core/param_sweep.py\", line 1077, in run\n",
      "    self._data[\"evals\"], self._data[\"evecs\"] = self._dressed_spectrum_sweep()\n",
      "                                               ^^^^^^^^^^^^^^^^^^^^^^^^^^^^^^\n",
      "  File \"/Users/Harry/Documents/Programs/Packages/scqubits/scqubits/core/param_sweep.py\", line 1270, in _dressed_spectrum_sweep\n",
      "    spectrum_data = list(\n",
      "                    ^^^^^\n",
      "  File \"/Users/Harry/opt/miniconda3/envs/arm311/lib/python3.11/site-packages/tqdm/notebook.py\", line 254, in __iter__\n",
      "    for obj in it:\n",
      "  File \"/Users/Harry/opt/miniconda3/envs/arm311/lib/python3.11/site-packages/tqdm/std.py\", line 1166, in __iter__\n",
      "    for obj in iterable:\n",
      "  File \"/Users/Harry/Documents/Programs/Packages/scqubits/scqubits/core/param_sweep.py\", line 1230, in _update_and_compute_dressed_esys\n",
      "    evals, evecs = hilbertspace.eigensys(\n",
      "                   ^^^^^^^^^^^^^^^^^^^^^^\n",
      "  File \"/Users/Harry/Documents/Programs/Packages/scqubits/scqubits/core/hilbert_space.py\", line 773, in eigensys\n",
      "    evals, evecs = hamiltonian_mat.eigenstates(eigvals=evals_count)\n",
      "                   ^^^^^^^^^^^^^^^^^^^^^^^^^^^^^^^^^^^^^^^^^^^^^^^^\n",
      "  File \"/Users/Harry/opt/miniconda3/envs/arm311/lib/python3.11/site-packages/qutip/qobj.py\", line 1706, in eigenstates\n",
      "    evals, evecs = sp_eigs(self.data, self.isherm, sparse=sparse,\n",
      "                   ^^^^^^^^^^^^^^^^^^^^^^^^^^^^^^^^^^^^^^^^^^^^^^\n",
      "  File \"/Users/Harry/opt/miniconda3/envs/arm311/lib/python3.11/site-packages/qutip/sparse.py\", line 353, in sp_eigs\n",
      "    raise ValueError(\"Number of requested eigen vals/vecs must be <= N.\")\n",
      "ValueError: Number of requested eigen vals/vecs must be <= N.\n"
     ]
    },
    {
     "name": "stdout",
     "output_type": "stream",
     "text": [
      "Updated element: spectrum\n",
      "Updated element: spectrum\n"
     ]
    }
   ],
   "source": [
    "# init plot\n",
    "fit.window.ui.mplFigureCanvas.plotAllElements(resetXYLim=True)\n",
    "fit.window.updateMatchingModeAndCursor()\n"
   ]
  },
  {
   "cell_type": "code",
   "execution_count": 3,
   "metadata": {},
   "outputs": [
    {
     "ename": "NameError",
     "evalue": "name 'fit' is not defined",
     "output_type": "error",
     "traceback": [
      "\u001b[0;31m---------------------------------------------------------------------------\u001b[0m",
      "\u001b[0;31mNameError\u001b[0m                                 Traceback (most recent call last)",
      "Cell \u001b[0;32mIn[3], line 1\u001b[0m\n\u001b[0;32m----> 1\u001b[0m fit\u001b[38;5;241m.\u001b[39mwindow\u001b[38;5;241m.\u001b[39mui\u001b[38;5;241m.\u001b[39mmplFigureCanvas\u001b[38;5;241m.\u001b[39mylim\n",
      "\u001b[0;31mNameError\u001b[0m: name 'fit' is not defined"
     ]
    }
   ],
   "source": [
    "fit.window.ui.mplFigureCanvas.ylim"
   ]
  },
  {
   "cell_type": "markdown",
   "metadata": {},
   "source": [
    "### Step 2.0: An overview of the GUI\n",
    "After launching the GUI, you will see a window below. The main window is divided into 4 parts as shown here. \n",
    "<p align=\"center\">\n",
    "  <img width=\"600\" src=\"resources/images/example_GUI_overview.png\">\n",
    "</p>  \n",
    "\n",
    "The fitting task is divided into 4 steps and you can navigate through them using the \"Major Steps\" panel. The 4 steps are: **Calibrate**, **Extract**, **Pre-Fit** and **Fit**. Let's go through them one by one and you may perform the corresponding task as you read along."
   ]
  },
  {
   "cell_type": "markdown",
   "metadata": {},
   "source": [
    "### Step 2.1: Calibrate\n",
    "The zeroth step: orient your two-tone spectroscopy correctly! The x-axis should be the parameter that you swept in an experiment, and the y-axis should be frequency.\n",
    "\n",
    "The first window you'll see after launching the GUI is the calibration panels. The aim of the calibration is to:\n",
    "1. map the x-axis of experimental data (here is the flux bias line voltage in mV) to the swept parameter in `scqubits` (here is the external flux in $\\Phi_0$)\n",
    "2. map the y-axis of experimental data to frequencies **in unit of GHz**. In this example the experimental y-axis is already in GHz.  \n",
    "\n",
    "Assuming a linear relationship between the flux bias line voltage ($x$) and external flux ($x'$), i.e. $x' = ax + b$, calibrating for their relation requires two pairs of $(x, x')$ values.\n",
    "<p align=\"center\">\n",
    "    <img width=\"500\" src=\"resources/images/calibration_notebook_ver.png\">\n",
    "</p>  \n",
    "\n",
    "To calibrate for $x$ in QFit, follow these steps:\n",
    "1. In the <span style=\"color:rgb(190, 130, 250);\">DATA</span> panel: Swap the axes of the data - making flux the x-axis and frequency the y-axis.\n",
    "2. In the <span style=\"color:rgb(190, 130, 250);\">CALIBRATION</span> panel:  \n",
    "    (1) Click the calibration point selection button.  \n",
    "    (2) From the spectrum, identify/guess and click a zero-flux point. $x_1$ coordinates will be automatically recorded.  \n",
    "    (3) Enter the value $x_1^\\prime$, which is 0.0 flux quantum.  \n",
    "    (4) Repeat the above steps for $x_2$.  \n",
    "    \n",
    "    You can also check out the video below for a demonstration.\n",
    "<video src=\"resources/videos/Calibration.mp4\" width=\"600\" height=\"300\" controls align=\"center\">\n",
    "Your browser does not support the video tag.\n",
    "</video>\n",
    "\n",
    "<br>\n",
    "\n",
    "**Tips**\n",
    "\n",
    "For a fluxonium, the Hamiltonian is periodic in flux with period $\\Phi_0$ and symmetric around $\\Phi_{\\rm ext} = \\frac{m}{2} \\Phi_0$, where $m$ is an integer. Therefore, we can identify and map the x coordinates with those properties."
   ]
  },
  {
   "cell_type": "markdown",
   "metadata": {},
   "source": [
    "### Step 2.2: Extract\n",
    "Now let's navigate to the next step and work on the data extraction. In QFit, extracted peak data are grouped by transitions. For example, we believe a spectral line in the data belongs to the plasmon transition $|\\overline{0_{\\rm res},0_{\\rm qubit}}\\rangle \\rightarrow|\\overline{0_{\\rm res},2_{\\rm qubit}}\\rangle$. And here is a step-by-step guide to extract and label the data:\n",
    "\n",
    "1. Select / Create a group of <span style=\"color:rgb(190, 130, 250);\">TRANSITION</span> data and <span style=\"color:rgb(190, 130, 250);\">LABEL</span> it (in this case, we uses bare state label (0, 0) --> (0, 2)):\n",
    "<p align=\"center\">\n",
    "    <img width=\"300\" src=\"resources/images/example_transition_n_label.png\">\n",
    "</p>  \n",
    "   \n",
    "2. Click on the canvas near a peak to select it. There a few helpful tools for you in this step (see TIPs below). Here is how it looks\n",
    "<p align=\"center\">\n",
    "    <img width=\"300\" src=\"resources/images/example_extract02.png\">\n",
    "</p>  \n",
    "\n",
    "3. If you want to increase the fitting accuracy, extract more transitions as shown below by repeating step 1, 2.\n",
    "<p align=\"center\">\n",
    "    <img width=\"300\" src=\"resources/images/example_transitions.png\">\n",
    "</p>  \n",
    "\n",
    "<br>\n",
    "\n",
    "**Pro tips**\n",
    "\n",
    "To assist you in the data extraction, the following button will be useful in the canvas.\n",
    "<p align=\"center\">\n",
    "    <img width=\"300\" src=\"resources/images/example_MPL_buttons.png\">\n",
    "</p>  \n",
    "\n",
    "They are (from left to right): **Reset | Pan, Zoom, Extract | X-Snapping, Y-Snapping**. \n",
    "\n",
    "1. Specifically, the **X-Snapping** button helps to align the x-coordinate among different transitions (groups).\n",
    "<p align=\"center\">\n",
    "    <img width=\"200\" src=\"resources/gifs/X_snap.gif\">\n",
    "</p>  \n",
    "\n",
    "Since numerical transition calculations will be carried out at every distinctive flux (x) values, we suggest you extract points from different transitions along the same x-value as much as possible. This is facilitated by the **X-Snapping** button.\n",
    "<p align=\"center\">\n",
    "    <img width=\"600\" src=\"resources/images/example_same_x_preferred.png\">\n",
    "</p>\n",
    "\n",
    "2. **Choose your points wisely!** More point selected = longer calculation time. You may want to select representative points for fitting.\n",
    "\n",
    "3. And the **Y-Snapping** button assists you to locate the peak precisely.\n",
    "<p align=\"center\">\n",
    "    <img width=\"200\" src=\"resources/gifs/Y_snap.gif\">\n",
    "</p>\n",
    "\n",
    "4. To **delete points**, click on the vicinity of the extracted point.\n",
    "\n",
    "5. For transitions, selecting bare or dressed labels means that you mark your initial and final states using bare indices (states are labelled by excitations of individual subsystems) or dressed indices (states are regarded as eigenstates of the entire system and labelled as 0, 1, 2, 3,... in ascending order of energy).\n",
    "\n",
    "6. Transitions may not necessarily start from the ground states; sometimes a higher-lying states are populated so the transitions from this high-lying state is activated."
   ]
  },
  {
   "cell_type": "markdown",
   "metadata": {},
   "source": [
    "### Step 2.3: Pre-Fit\n",
    "After getting enough data, we now start to fit by eye, aiming to find a good initial guess for the numerical fitting. In this step, you may play with **sliders** to make the numerical spectrum match the data. \n",
    "\n",
    "After getting a good set of parameters, you will click **RESULT → FIT** button on the bottom left to copy the parameters to the <span style=\"color:rgb(190, 130, 250);\">FIT</span> panel.\n",
    "\n",
    "Here, only transitions that excites the subsystem selected in <span style=\"color:rgb(190, 130, 250);\">SETTINGS: NUMERICAL SPECTRUM</span> are labelled in color; the dashed lines are other transitions. \n"
   ]
  },
  {
   "cell_type": "markdown",
   "metadata": {},
   "source": [
    "### Step 2.4: Fit\n",
    "Finally, we are ready to fit the data numerically! The main thing you need to do is configure the fitting parameters in the **FIT table**. You may adjust the following entries in the table:\n",
    "- Whether to **Fix** or free a parameter during fitting\n",
    "- The **Initial** guesses (from pre-fit)\n",
    "- **Min** and **Max** values\n",
    "\n",
    "Now click **RUN FIT** and wait for the fitting to finish. \n",
    "\n",
    "If there is not warning or error message, congratulations! You have successfully fit the data and the fit parameters can be found in **Current** column. \n",
    "\n",
    "If you want to make use of the fitting result as a initial guess, and repeat the numerical fitting with different configurations, you may click **RESULT → INITIAL**."
   ]
  },
  {
   "cell_type": "markdown",
   "metadata": {},
   "source": [
    "## Step 3: Save, load and export\n",
    "You may save / load the fitting session by clicking the <img width=\"20\" src=\"resources/images/example_menu.png\"> button on the top left. The session will be saved as a `.qfit` file."
   ]
  },
  {
   "cell_type": "markdown",
   "metadata": {},
   "source": [
    "You can also open a new window to load the previous session."
   ]
  },
  {
   "cell_type": "code",
   "execution_count": 1,
   "metadata": {},
   "outputs": [
    {
     "name": "stderr",
     "output_type": "stream",
     "text": [
      "qt.qpa.fonts: Populating font family aliases took 111 ms. Replace uses of missing font family \"Roboto Medium\" with one that exists to avoid this cost. \n"
     ]
    },
    {
     "name": "stdout",
     "output_type": "stream",
     "text": [
      "All extracted data is ready to plot\n"
     ]
    }
   ],
   "source": [
    "from qfit import Fit\n",
    "# this is an example file we already prepared for you\n",
    "# If you didn't close the previous window, you'll get another one\n",
    "fit = Fit.open(\"example_data/QFit_Quick_Start.qfit\")"
   ]
  },
  {
   "cell_type": "code",
   "execution_count": 8,
   "metadata": {},
   "outputs": [
    {
     "data": {
      "text/plain": [
       "'GHz'"
      ]
     },
     "execution_count": 8,
     "metadata": {},
     "output_type": "execute_result"
    }
   ],
   "source": [
    "import scqubits as scq\n",
    "scq.get_units()"
   ]
  },
  {
   "cell_type": "code",
   "execution_count": 4,
   "metadata": {},
   "outputs": [
    {
     "name": "stdout",
     "output_type": "stream",
     "text": [
      "Updated element: measurement\n",
      "distinctXUpdated\n",
      "All extracted data is ready to plot\n",
      "Updated element: active_extractions\n",
      "Updated element: all_extractions\n",
      "Updated element: extraction_vlines\n"
     ]
    }
   ],
   "source": [
    "fit.window.measurementData.emitReadyToPlot()\n",
    "fit.window.allDatasets.emitDataUpdated()"
   ]
  },
  {
   "cell_type": "code",
   "execution_count": null,
   "metadata": {},
   "outputs": [
    {
     "name": "stdout",
     "output_type": "stream",
     "text": [
      "Updated element: measurement\n",
      "distinctXUpdated\n",
      "All extracted data is ready to plot\n",
      "Updated element: active_extractions\n",
      "Updated element: all_extractions\n",
      "Updated element: extraction_vlines\n",
      "updatePlot called\n",
      "Updated element: measurement\n",
      "Updated element: active_extractions\n",
      "Updated element: all_extractions\n",
      "Updated element: extraction_vlines\n",
      "updatePlot called\n",
      "Updated element: measurement\n",
      "Updated element: active_extractions\n",
      "Updated element: all_extractions\n",
      "Updated element: extraction_vlines\n",
      "updatePlot called\n",
      "Updated element: measurement\n",
      "Updated element: active_extractions\n",
      "Updated element: all_extractions\n",
      "Updated element: extraction_vlines\n",
      "updatePlot called\n",
      "Updated element: measurement\n",
      "Updated element: active_extractions\n",
      "Updated element: all_extractions\n",
      "Updated element: extraction_vlines\n"
     ]
    }
   ],
   "source": [
    "fit.window.ui.mplFigureCanvas.plotAllElements(resetXYLim=False)"
   ]
  },
  {
   "cell_type": "markdown",
   "metadata": {},
   "source": [
    "There is another option for you to continue working in the notebook - export."
   ]
  },
  {
   "cell_type": "code",
   "execution_count": 6,
   "metadata": {},
   "outputs": [
    {
     "data": {
      "text/plain": [
       "HilbertSpace(**{'subsystem_list': [Oscillator(**{'E_osc': 2.0, 'l_osc': 1.0, 'truncated_dim': 4, 'id_str': 'resonator'}), Fluxonium(**{'EJ': 2.0, 'EC': 0.4, 'EL': 0.2, 'flux': 0.0, 'cutoff': 100, 'truncated_dim': 5, 'id_str': 'fluxonium', 'evals_method': None, 'evals_method_options': None, 'esys_method': None, 'esys_method_options': None})], 'interaction_list': [InteractionTerm(**{'g_strength': 0.0, 'operator_list': [(0, <bound method Oscillator.n_operator of Oscillator(**{'E_osc': 2.0, 'l_osc': 1.0, 'truncated_dim': 4, 'id_str': 'resonator'})>), (1, <bound method Fluxonium.n_operator of Fluxonium(**{'EJ': 2.0, 'EC': 0.4, 'EL': 0.2, 'flux': 0.0, 'cutoff': 100, 'truncated_dim': 5, 'id_str': 'fluxonium', 'evals_method': None, 'evals_method_options': None, 'esys_method': None, 'esys_method_options': None})>)], 'add_hc': False})]})"
      ]
     },
     "execution_count": 6,
     "metadata": {},
     "output_type": "execute_result"
    }
   ],
   "source": [
    "# To get the HilbertSpace object and continue working on it\n",
    "fit_hilbertspace = fit.exportHilbertSpace(deepcopy=True)\n",
    "fit_hilbertspace"
   ]
  },
  {
   "cell_type": "markdown",
   "metadata": {},
   "source": [
    "## Final words\n",
    "We hope you have enjoyed this tutorial and learned how to use `QFit`. If you have any questions, please feel free to contact us."
   ]
  }
 ],
 "metadata": {
  "kernelspec": {
   "display_name": "arm311",
   "language": "python",
   "name": "python3"
  },
  "language_info": {
   "codemirror_mode": {
    "name": "ipython",
    "version": 3
   },
   "file_extension": ".py",
   "mimetype": "text/x-python",
   "name": "python",
   "nbconvert_exporter": "python",
   "pygments_lexer": "ipython3",
   "version": "3.11.4"
  }
 },
 "nbformat": 4,
 "nbformat_minor": 2
}
