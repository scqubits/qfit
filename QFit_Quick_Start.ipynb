{
 "cells": [
  {
   "cell_type": "markdown",
   "metadata": {},
   "source": [
    "# `qfit` Quick Start"
   ]
  },
  {
   "cell_type": "markdown",
   "metadata": {},
   "source": [
    "\n",
    "Tianpu Zhao, Danyang Chen and Jens Koch"
   ]
  },
  {
   "cell_type": "markdown",
   "metadata": {},
   "source": [
    "This guide will walk you through the basic usage of `qfit` and its features. We have prepared a simple task for you to practice fitting with `qfit`. Don't worry, we've also prepared a detailed guide for you to follow. "
   ]
  },
  {
   "cell_type": "markdown",
   "metadata": {},
   "source": [
    "#### Scope of the app"
   ]
  },
  {
   "cell_type": "markdown",
   "metadata": {},
   "source": [
    "Please notice that the current version of the app supports for any circuit (including both hard-coded qubit classes and those generated with the custom circuit module) and composite system with one tunable parameter (i.e. external flux and offset charge). In the upcoming release, we will implement supports for circuits with multiple tuning knobs and crosstalk calibrations for flux/charge lines."
   ]
  },
  {
   "cell_type": "markdown",
   "metadata": {},
   "source": [
    "## The task"
   ]
  },
  {
   "cell_type": "markdown",
   "metadata": {},
   "source": [
    "You are given a **superconducting circuit** composed of a fluxonium qubit and a resonator mode. They are capacitively coupled. The effective circuit is shown below:\n",
    "<p align=\"center\">\n",
    "  <img width=\"300\" src=\"resources/images/example_circuit.png\">\n",
    "</p>  \n",
    "\n",
    "This circuit is described by the following **Hamiltonian**:\n",
    "$$\n",
    "H = H_{\\rm res} + H_{\\rm qubit} + H_{\\rm int}\n",
    "$$\n",
    "with the resonator and qubit Hamiltonians and their interactions given by\n",
    "\\begin{align*}\n",
    "H_{\\rm res} &= E_{\\rm osc} a^\\dagger a \\\\\n",
    "H_{\\rm qubit} &= 4E_C n^2 - E_J \\cos(\\varphi+2\\pi\\Phi_{\\rm ext}/\\Phi_0) + \\frac{1}{2}E_L\\varphi^2 \\\\\n",
    "H_{\\rm int} &= g \\frac{-i}{\\sqrt{2}l_{\\rm osc}} (a-a^\\dagger) n\n",
    "\\end{align*}\n",
    "where $a$ is the annihilation operator of the resonator, $n$ ($\\varphi$) is the number (phase) operator of the qubit. $\\Phi_{\\rm ext}$ is the external flux, and $\\Phi_0$ is the flux quantum.  Circuit parameters and their estimates (typically obtained from EM simulations and the Ambegaokar–Baratoff relation) are listed below:\n",
    "\n",
    "| Parameter | Symbol | Rough Estimate |\n",
    "| --- | --- | --- |\n",
    "| Josephson Energy | $E_J$ | $3.0\\ GHz\\times h$ |\n",
    "| Charging Energy | $E_C$ | $0.9\\ GHz\\times h$ |\n",
    "| Inductive Energy | $E_L$ | $0.25\\ GHz\\times h$ |\n",
    "| Oscillator Length | $l_{\\rm osc}$ | $1.0$ |\n",
    "| Resonator Frequency | $E_{\\mathrm{osc}}$ | $5.6\\ GHz\\times h$ |\n",
    "| Coupling Strength | $g$ | $1.0 \\ GHz\\times h$ |\n",
    "\n",
    "To determine the parameter described above, one can perform a **two-tone spectroscopy experiment**. In the experiment, two tones of RF drive are applied to the system - a tone with frequency $f_{\\rm d}$ to the qubit and a tone near frequency $E_{\\rm osc} / h$ to the resonator. One then measure the transmission or reflection of the RF signal through the resonator. If the qubit drive pulse frequency $f_{\\rm d}$ happens to match a transition frequency of the qubit-resonator system, then the pulse may drive this transition. This may introduce a shift on the resonator frequency, which changes the amplitude and phase of the transmission/reflection signal.\n",
    "\n",
    "By performing such measurement for different $f_{\\rm d}$ and $\\Phi_{\\rm ext}$, one can obtain the following data:"
   ]
  },
  {
   "cell_type": "code",
   "execution_count": 23,
   "metadata": {},
   "outputs": [
    {
     "name": "stdout",
     "output_type": "stream",
     "text": [
      "Below is the information of the data and the shape of elements:\n",
      "freq (2793,)\n",
      "mags (81, 2793)\n",
      "voltage (81,)\n"
     ]
    }
   ],
   "source": [
    "import h5py\n",
    "import numpy as np\n",
    "import matplotlib.pyplot as plt\n",
    "\n",
    "# Load the data in the h5 file (you don't need to do this while using QFit)\n",
    "print(\"Below is the information of the data and the shape of elements:\")\n",
    "with h5py.File(\"./example_data/joint_qubit_twotone.h5\", \"r\") as file:\n",
    "    def print_info(name, obj):\n",
    "        print(name, obj.shape)\n",
    "    file.visititems(print_info)\n",
    "\n",
    "    data = np.array(file[\"mags\"])\n",
    "    f_d, Phi_ext = np.meshgrid(file[\"freq\"], file[\"voltage\"])\n",
    "\n",
    "# Plot the data\n",
    "plt.figure(figsize=(7, 5.5))\n",
    "plt.pcolormesh(Phi_ext.T, f_d.T, data.T, cmap=\"PuOr\", rasterized=True)\n",
    "plt.colorbar()\n",
    "plt.xlabel(\"Drive frequency [GHz]\")\n",
    "plt.ylabel(\"Voltage to the flux bias line [mV]\")\n",
    "plt.title(\"Transmission magnitude\")\n",
    "plt.show()"
   ]
  },
  {
   "cell_type": "code",
   "execution_count": 22,
   "metadata": {},
   "outputs": [],
   "source": [
    "data = {}\n",
    "with h5py.File('./example_data/joint_qubit_twotone.h5', 'r') as f:\n",
    "    for key in f.keys():\n",
    "        data[key] = f[key][()]\n",
    "\n",
    "data['voltage'] = data['voltage'][20: 60]\n",
    "data['freq'] = data['freq'][1000: 1500]\n",
    "data['trun_mags'] = data['mags'][20: 60, 1000: 1500]\n",
    "del data['mags']\n",
    "\n",
    "with h5py.File('./example_data/trunc_twotone.h5', 'w') as f:\n",
    "    for key, value in data.items():\n",
    "        f.create_dataset(key, data=value)"
   ]
  },
  {
   "cell_type": "markdown",
   "metadata": {},
   "source": [
    "In the data, the peaks represent resonances between the $f_{\\rm d}$ and the transition frequencies. **Your task is to fit the data and extract the parameters.** - This is where `qfit` comes in. "
   ]
  },
  {
   "cell_type": "markdown",
   "metadata": {},
   "source": [
    "\n",
    "**Tips**\n",
    "\n",
    "`qfit` supports various input data format including hdf5, matlab, and even images. We hope to make `qfit` as easy to use as possible. Reach out to us if you want to use `qfit` with your own data format."
   ]
  },
  {
   "cell_type": "markdown",
   "metadata": {},
   "source": [
    "## Step 0: Build a numerical model and run `qfit`"
   ]
  },
  {
   "cell_type": "markdown",
   "metadata": {},
   "source": [
    "We have helped you to create a numerical model of the quantum system using `scqubits.HilbertSpace`. To see the usage of `scqubits` in detail, please refer to the [scqubits documentation](https://scqubits.readthedocs.io/en/latest/)."
   ]
  },
  {
   "cell_type": "code",
   "execution_count": 1,
   "metadata": {},
   "outputs": [],
   "source": [
    "import scqubits as scq\n",
    "\n",
    "fluxonium = scq.Fluxonium(\n",
    "    EJ = 3.0,\n",
    "    EC = 0.9,\n",
    "    EL = 0.25,\n",
    "    flux = 0.5,\n",
    "    cutoff = 100,\n",
    "    truncated_dim = 5,\n",
    "    id_str = \"Fluxonium\"\n",
    ")\n",
    "fluxonium_2 = scq.Fluxonium(\n",
    "    EJ = 3.0,\n",
    "    EC = 0.9,\n",
    "    EL = 0.25,\n",
    "    flux = 0.5,\n",
    "    cutoff = 100,\n",
    "    truncated_dim = 5,\n",
    "    id_str = \"Fluxonium_2\"\n",
    ")\n",
    "# resonator = scq.Oscillator(\n",
    "#     E_osc = 5.6,\n",
    "#     l_osc = 1.0,\n",
    "#     truncated_dim = 4,\n",
    "#     id_str = \"Resonator\"\n",
    "# )\n",
    "\n",
    "hilbertspace = scq.HilbertSpace([fluxonium, fluxonium_2])\n",
    "\n",
    "hilbertspace.add_interaction(\n",
    "    g = 1,\n",
    "    op1 = fluxonium_2.n_operator,\n",
    "    op2 = fluxonium.n_operator,\n",
    "    add_hc = False,\n",
    "    id_str = \"res-qubit\"\n",
    ")"
   ]
  },
  {
   "cell_type": "markdown",
   "metadata": {},
   "source": [
    "#### Provide experimental data and launch `qfit`"
   ]
  },
  {
   "cell_type": "markdown",
   "metadata": {},
   "source": [
    "\n",
    "Open the app using `Fit(<HilbertSpace>, <data file path>)`. An app (the graphical user interface, GUI) will pop up and we'll guide you through the GUI in the next few subsections. You may treat the following sections as a documentation and refer to it if necessary. Also you may click on the ? buttons for help."
   ]
  },
  {
   "cell_type": "code",
   "execution_count": 2,
   "metadata": {},
   "outputs": [],
   "source": [
    "# filepath = \"./example_data/toy_twotone.h5\"\n",
    "filepath = [\"./example_data/joint_qubit_twotone.h5\", \"./example_data/trunc_twotone.h5\"]\n",
    "# filepath = None"
   ]
  },
  {
   "cell_type": "code",
   "execution_count": 3,
   "metadata": {},
   "outputs": [
    {
     "name": "stderr",
     "output_type": "stream",
     "text": [
      "qt.qpa.fonts: Populating font family aliases took 103 ms. Replace uses of missing font family \"Roboto Medium\" with one that exists to avoid this cost. \n"
     ]
    },
    {
     "name": "stdout",
     "output_type": "stream",
     "text": [
      "emitReadyToPlot\n",
      "1\n",
      "emitReadyToPlot\n",
      "1\n",
      "emitReadyToPlot\n",
      "1\n",
      "emitReadyToPlot\n",
      "1\n"
     ]
    }
   ],
   "source": [
    "from qfit import Fit\n",
    "fit = Fit(hilbertspace, filepath)"
   ]
  },
  {
   "cell_type": "code",
   "execution_count": 19,
   "metadata": {},
   "outputs": [
    {
     "name": "stdout",
     "output_type": "stream",
     "text": [
      "emitReadyToPlot\n",
      "2\n"
     ]
    },
    {
     "name": "stderr",
     "output_type": "stream",
     "text": [
      "Warning: [scqubits] Some quantum system parameters have been changed and generated spectrum data could be outdated, potentially leading to incorrect results. Spectral data can be refreshed via <HilbertSpace>.generate_lookup() or <ParameterSweep>.run()\n",
      " /Users/Harry/Documents/Programs/Packages/scqubits/scqubits/utils/misc.py: 174"
     ]
    }
   ],
   "source": [
    "fit._measData.switchFig('joint_qubit_twotone.h5')"
   ]
  },
  {
   "cell_type": "code",
   "execution_count": 20,
   "metadata": {},
   "outputs": [
    {
     "name": "stdout",
     "output_type": "stream",
     "text": [
      "emitReadyToPlot\n",
      "2\n"
     ]
    },
    {
     "name": "stderr",
     "output_type": "stream",
     "text": [
      "Warning: [scqubits] Some quantum system parameters have been changed and generated spectrum data could be outdated, potentially leading to incorrect results. Spectral data can be refreshed via <HilbertSpace>.generate_lookup() or <ParameterSweep>.run()\n",
      " /Users/Harry/Documents/Programs/Packages/scqubits/scqubits/utils/misc.py: 174"
     ]
    }
   ],
   "source": [
    "fit._measData.switchFig('trunc_twotone.h5')"
   ]
  },
  {
   "cell_type": "markdown",
   "metadata": {},
   "source": [
    "#### An overview of the GUI"
   ]
  },
  {
   "cell_type": "markdown",
   "metadata": {},
   "source": [
    "\n",
    "After launching the GUI, you will see a window below. The window is divided into parts as shown here. \n",
    "<p align=\"center\">\n",
    "  <img width=\"600\" src=\"resources/images/example_GUI_overview.png\">\n",
    "</p>  \n",
    "\n",
    "The fitting task is divided into 4 steps and you can navigate through them using the navigation menu. The 4 steps are: **Calibrate**, **Extract**, **Pre-Fit** and **Fit**. Let's go through them one by one and you may perform the corresponding task as you read along."
   ]
  },
  {
   "cell_type": "markdown",
   "metadata": {},
   "source": [
    "## Step 1: Calibrate"
   ]
  },
  {
   "cell_type": "markdown",
   "metadata": {},
   "source": [
    "#### Orient your data correctly"
   ]
  },
  {
   "cell_type": "markdown",
   "metadata": {},
   "source": [
    "\n",
    "After launching the app, you may find your data not oriented as expected. The x-axis should be the parameter (e.g. the DC voltage) that you swept in an experiment, and the y-axis should be frequency for the qubit tone. You may click \"Switch X And Y Axis\" button to orient your figure correctly."
   ]
  },
  {
   "cell_type": "markdown",
   "metadata": {},
   "source": [
    "#### The calibration process"
   ]
  },
  {
   "cell_type": "markdown",
   "metadata": {},
   "source": [
    "The first window you'll see after launching the GUI is the calibration panels. The aim of the calibration is to:\n",
    "1. map the x-axis of experimental data (here is the flux bias line voltage in mV) to the swept parameter in `scqubits` (here is the external flux in $\\Phi_0$). This also applies to circuits that are tuned by offset charges in analogy.\n",
    "2. map the y-axis of experimental data to frequencies **in unit of GHz**. In this example the experimental y-axis is already in GHz.  \n",
    "\n",
    "Assuming a linear relationship between the flux bias line voltage ($x$) and external flux ($x'$), i.e. $x' = ax + b$, calibrating for their relation requires two pairs of $(x, x')$ values.\n",
    "<p align=\"center\">\n",
    "    <img width=\"500\" src=\"resources/images/calibration_notebook_ver.png\">\n",
    "</p>  \n"
   ]
  },
  {
   "cell_type": "markdown",
   "metadata": {},
   "source": [
    "To calibrate for $x$ in `qfit`, follow these steps:\n",
    "1. Click the calibration point selection button for $x_1$. \n",
    "2. From the spectrum, identify/guess a zero-flux point and click. The $x_1$ coordinate will be automatically extracted.  \n",
    "3. Enter the value $x_1^\\prime$, which is 0.0 flux quantum.  \n",
    "4. Repeat the above steps for $x_2$.  \n",
    "    \n",
    "You can also check out the video below for a demonstration.\n",
    "<video src=\"resources/videos/calibration.mp4\" width=\"840\" height=\"560\" controls align=\"center\">\n",
    "[Your browser does not support the video tag.]\n",
    "</video>"
   ]
  },
  {
   "cell_type": "markdown",
   "metadata": {},
   "source": [
    "**Tips**\n",
    "\n",
    "1. For a fluxonium, the Hamiltonian is periodic in flux with period $\\Phi_0$ and symmetric around $\\Phi_{\\rm ext} = \\frac{m}{2} \\Phi_0$, where $m$ is an integer. Therefore, we can identify and map the x coordinates with those properties.\n",
    "2. You may switch your cursor to zoom/pan mode, and continue picking up the raw x/y value by switching back to the extract mode."
   ]
  },
  {
   "cell_type": "markdown",
   "metadata": {},
   "source": [
    "### Step 2: Extract"
   ]
  },
  {
   "cell_type": "markdown",
   "metadata": {},
   "source": [
    "Now let's navigate to the next step and work on the data extraction. In QFit, extracted peak data are grouped by transitions. For example, we believe a spectral line in the data belongs to the plasmon transition $|\\overline{0_{\\rm res},0_{\\rm qubit}}\\rangle \\rightarrow|\\overline{0_{\\rm res},2_{\\rm qubit}}\\rangle$. And here is a step-by-step guide to extract and label the data:\n",
    "\n",
    "1. Select / Create a group of transition data and label it. In this case, we uses bare state label (0, 0) --> (0, 2):\n",
    "<p align=\"center\">\n",
    "    <img width=\"300\" src=\"resources/images/example_transition_n_label.png\">\n",
    "</p>  \n",
    "   \n",
    "2. Click on the canvas near a peak to select it. There a few helpful tools for you in this step (see tips below). Here is how it looks.\n",
    "<p align=\"center\">\n",
    "    <img width=\"300\" src=\"resources/images/example_extract02.png\">\n",
    "</p>  \n",
    "\n",
    "3. If you want to increase the fitting accuracy, extract more transitions as shown below by repeating step 1, 2."
   ]
  },
  {
   "cell_type": "markdown",
   "metadata": {},
   "source": [
    "**Tips**\n",
    "\n",
    "To assist you in the data extraction, the following button will be useful in the canvas.\n",
    "<p align=\"center\">\n",
    "    <img width=\"500\" src=\"resources/images/example_MPL_buttons.png\">\n",
    "</p>  \n",
    "\n",
    "They are (from left to right): **Reset | Pan, Zoom, Extract | X-Snap, Y-Snap | Show Calibrated Axes**. \n",
    "\n",
    "1. Specifically, the **X-Snap** button helps to align the x-coordinate among different transitions (groups).\n",
    "<p align=\"center\">\n",
    "    <img width=\"200\" src=\"resources/gifs/X_snap.gif\">\n",
    "</p>  \n",
    "\n",
    "Since numerical transition calculations will be carried out at every distinctive flux (x) values, we suggest you extract points from different transitions along the same x-value as much as possible. This is facilitated by the **X-Snap** button.\n",
    "<p align=\"center\">\n",
    "    <img width=\"400\" src=\"resources/images/example_same_x_preferred.png\">\n",
    "</p>\n",
    "\n",
    "2. **Choose your points wisely!** More points with distinctive x-value being selected = longer calculation time. You may want to select representative points for fitting.\n",
    "\n",
    "3. And the **Y-Snap** button assists you to locate the peak precisely.\n",
    "<p align=\"center\">\n",
    "    <img width=\"200\" src=\"resources/gifs/Y_snap.gif\">\n",
    "</p>\n",
    "\n",
    "4. To **delete points**, click on the vicinity of the extracted point.\n",
    "\n",
    "5. For transitions, selecting bare or dressed labels means that you mark your initial and final states using bare indices (states are labelled by excitations of individual subsystems) or dressed indices (states are regarded as eigenstates of the entire system and labelled as 0, 1, 2, 3,... in ascending order of energy). \n",
    "\n",
    "6. If you do not know what label should be given to a group of points, you may choose the \"Unknown\" label, and come back to label it later once you have a better idea. \n",
    "\n",
    "7. Transitions may not necessarily start from the ground states; sometimes a higher-lying states are populated so the transitions from this high-lying state is activated."
   ]
  },
  {
   "cell_type": "markdown",
   "metadata": {},
   "source": [
    "#### Settings: visual"
   ]
  },
  {
   "cell_type": "markdown",
   "metadata": {},
   "source": [
    "The visual settings may improves the image contrast and help you locate peaks easier. \n",
    "<p align=\"center\">\n",
    "    <img width=\"200\" src=\"resources/images/settings_visual.png\">\n",
    "</p>"
   ]
  },
  {
   "cell_type": "markdown",
   "metadata": {},
   "source": [
    "### Step 3: Pre-Fit"
   ]
  },
  {
   "cell_type": "markdown",
   "metadata": {},
   "source": [
    "After getting enough data, we now start to fit by eye, aiming to find a good initial guess for the numerical fitting. In this step, you may play with **sliders** to make the numerical spectrum match the data. \n",
    "\n",
    "You may also fine-tune your calibration by adjusting the mapped value of your points selected for calibration.\n",
    "\n",
    "After getting a good set of parameters, you will click **Result To Fit** button on the bottom left to copy the parameters to the <span style=\"color:rgb(190, 130, 250);\">FIT</span> panel."
   ]
  },
  {
   "cell_type": "markdown",
   "metadata": {},
   "source": [
    "#### Settings: spectrum"
   ]
  },
  {
   "cell_type": "markdown",
   "metadata": {},
   "source": [
    "Options in the spectrum settings can change what transitions are plotted, and how these transitions are marked.\n",
    "\n",
    "<p align=\"center\">\n",
    "    <img width=\"200\" src=\"resources/images/settings_spectrum.png\">\n",
    "</p>\n",
    "\n",
    "1. TRANSITIONS: transitions that **only** excites the selected subsystem selected are labelled in color; the dashed lines are other transitions. \n",
    "2. INITIAL STATE: the initial state of the transition, can either be specified in bare state label or dressed state index.\n",
    "3. EVALS COUNT: number of eigenvalues evaluated during parameter sweep.\n",
    "4. POINTS ADDED: to make the transition curve look smooth, we include more sweep points for parameter sweep, in addition to those included in the extracted data.\n",
    "5. PHOTONS: number of photons involved in the transition process. The transition frequency is ${|\\mathrm{final\\,energy} - \\mathrm{initial\\,energy}|}/{\\mathrm{photon\\,number}}$."
   ]
  },
  {
   "cell_type": "markdown",
   "metadata": {},
   "source": [
    "**Examples**:\n",
    "\n",
    "* If you want to see the frequencies of transitions that start from the state labelled by (qubit, resonator) = (1,0) (a very good reason for this is that for fluxonium at half-flux sweet spot, the occupation probability of the state 1 may be significantly large due to small 01 transition frequency), then you may specify (1,0) as the initial state.\n",
    "\n",
    "<p align=\"center\">\n",
    "  <img width=\"600\" src=\"resources/images/initial_state_10.png\">\n",
    "</p>  \n",
    "\n",
    "* If you want to see frequencies of transitions that involves two photons, then you may specify photons to be 2.\n",
    "\n",
    "<p align=\"center\">\n",
    "  <img width=\"600\" src=\"resources/images/two_photon_process.png\">\n",
    "</p>  \n",
    "\n",
    "* To see sideband transitions (transitions that involve changes in bare state label of more than one subsystems, such as (1,0)->(0,1)), you may select \"none selected\" for the transitions option. This option highlights and labels all transitions between states with identified bare labels.\n",
    "\n",
    "<p align=\"center\">\n",
    "  <img width=\"600\" src=\"resources/images/all_transitions.png\">\n",
    "</p>  "
   ]
  },
  {
   "cell_type": "markdown",
   "metadata": {},
   "source": [
    "### Step 4: Fit\n",
    "Finally, we are ready to fit the data numerically! The main thing you need to do is configure the fitting parameters in the **FIT table**. You may adjust the following entries in the table:\n",
    "- Whether to **Fix** or free a parameter during fitting\n",
    "- The **Initial** guesses (from pre-fit)\n",
    "- **Min** and **Max** values\n",
    "\n",
    "Now click **Run Fit** and wait for the fitting to finish. \n",
    "\n",
    "If there is not warning or error message, congratulations! You have successfully fit the data and the fit parameters can be found in **Current** column. \n",
    "\n",
    "If you want to make use of the fitting result as a initial guess, and repeat the numerical fitting with different configurations, you may click **Result To Initial**."
   ]
  },
  {
   "cell_type": "markdown",
   "metadata": {},
   "source": [
    "## Save, load and export\n",
    "You may save / load the fitting session by clicking the <img width=\"20\" src=\"resources/images/example_menu.png\"> button on the top left. The session will be saved as a `.qfit` file."
   ]
  },
  {
   "cell_type": "markdown",
   "metadata": {},
   "source": [
    "You can also open a new window to load the previous session."
   ]
  },
  {
   "cell_type": "code",
   "execution_count": null,
   "metadata": {},
   "outputs": [],
   "source": [
    "from qfit import Fit\n",
    "# this is an example file we already prepared for you\n",
    "# If you didn't close the previous window, you'll get another one\n",
    "fit = Fit.open(\"example_data/QFit_Quick_Start.qfit\") "
   ]
  },
  {
   "cell_type": "markdown",
   "metadata": {},
   "source": [
    "There is another option for you to continue working in the notebook - export."
   ]
  },
  {
   "cell_type": "code",
   "execution_count": null,
   "metadata": {},
   "outputs": [],
   "source": [
    "# To get the HilbertSpace object and continue working on it\n",
    "fit_hilbertspace = fit.exportHilbertSpace(deepcopy=True)\n",
    "fit_hilbertspace"
   ]
  },
  {
   "cell_type": "code",
   "execution_count": null,
   "metadata": {},
   "outputs": [],
   "source": [
    "# To get the parameters for the HilbertSpace and calibration\n",
    "fit_parameters = fit.exportParameters(fromFit=True)\n",
    "fit_parameters"
   ]
  },
  {
   "cell_type": "markdown",
   "metadata": {},
   "source": [
    "## Final words\n",
    "We hope you have enjoyed this tutorial and learned how to use `QFit`. If you have any questions, please feel free to contact us."
   ]
  }
 ],
 "metadata": {
  "kernelspec": {
   "display_name": "Python 3 (ipykernel)",
   "language": "python",
   "name": "python3"
  },
  "language_info": {
   "codemirror_mode": {
    "name": "ipython",
    "version": 3
   },
   "file_extension": ".py",
   "mimetype": "text/x-python",
   "name": "python",
   "nbconvert_exporter": "python",
   "pygments_lexer": "ipython3",
   "version": "3.11.4"
  }
 },
 "nbformat": 4,
 "nbformat_minor": 2
}
