{
 "cells": [
  {
   "cell_type": "markdown",
   "metadata": {},
   "source": [
    "# `qfit` Quick Start\n",
    "\n",
    "Tianpu Zhao, Danyang Chen and Jens Koch\n",
    "\n",
    "This guide will walk you through the basic usage of `qfit` and its features. We have prepared a simple task for you to practice fitting with `qfit`. Don't worry, we've also prepared a detailed guide for you to follow. "
   ]
  },
  {
   "cell_type": "markdown",
   "metadata": {},
   "source": [
    "## Background & your task\n",
    "\n",
    "You are given a **superconducting circuit** composed of a fluxonium qubit and a resonator mode. They are capacitively coupled. The effective circuit is shown below:\n",
    "<p align=\"center\">\n",
    "  <img width=\"300\" src=\"resources/images/example_circuit.png\">\n",
    "</p>  \n",
    "\n",
    "This circuit is described by the following **Hamiltonian**:\n",
    "$$\n",
    "H = H_{\\rm res} + H_{\\rm qubit} + H_{\\rm int}\n",
    "$$\n",
    "with the resonator and qubit Hamiltonians and their interactions given by\n",
    "\\begin{align*}\n",
    "H_{\\rm res} &= E_{\\rm osc} a^\\dagger a \\\\\n",
    "H_{\\rm qubit} &= 4E_C n^2 - E_J \\cos(\\varphi+2\\pi\\Phi_{\\rm ext}/\\Phi_0) + \\frac{1}{2}E_L\\varphi^2 \\\\\n",
    "H_{\\rm int} &= g \\frac{-i}{\\sqrt{2}l_{\\rm osc}} (a-a^\\dagger) n\n",
    "\\end{align*}\n",
    "where $a$ is the annihilation operator of the resonator, $n$ ($\\varphi$) is the number (phase) operator of the qubit. $\\Phi_{\\rm ext}$ is the external flux, and $\\Phi_0$ is the flux quantum.  Circuit parameters and their estimates (typically obtained from EM simulations and the Ambegaokar–Baratoff relation) are listed below:\n",
    "\n",
    "| Parameter | Symbol | Rough Estimate |\n",
    "| --- | --- | --- |\n",
    "| Josephson Energy | $E_J$ | $3.0\\textrm{ GHz}\\times h$ |\n",
    "| Charging Energy | $E_C$ | $0.9\\textrm{ GHz}\\times h$ |\n",
    "| Inductive Energy | $E_L$ | $0.25\\textrm{ GHz}\\times h$ |\n",
    "| Oscillator Length | $l_{\\rm osc}$ | $1.0$ |\n",
    "| Resonator Frequency | $E_{\\mathrm{osc}}$ | $5.6\\textrm{ GHz}\\times h$ |\n",
    "| Coupling Strength | $g$ | $1.0 \\textrm{ GHz}\\times h$ |\n",
    "\n",
    "To determine the parameter described above, one can perform a **two-tone spectroscopy experiment**. It's summarized in the image below:\n",
    "<figure align=\"center\">\n",
    "  <img width=\"700\" src=\"resources/images/example_two_tone_setup.png\">\n",
    "</figure>  \n",
    "\n",
    "In the experiment, two tones of RF drive are applied to the system - a tone with frequency $\\omega$ to the qubit and a tone near frequency $E_{\\rm osc} / h$ to the resonator. One then measure the transmission or reflection of the RF signal through the resonator. If the qubit drive pulse frequency $\\omega$ happens to match a transition frequency of the qubit-resonator system, then the pulse may drive this transition. This may introduce a shift on the resonator frequency, which changes the amplitude and phase of the transmission/reflection signal. By performing such measurement for different $\\omega$ and $\\Phi_{\\rm ext}$, one can obtain obtain the spectroscopy data.\n",
    "\n",
    "Check out below for an example of such data:"
   ]
  },
  {
   "cell_type": "code",
   "execution_count": 2,
   "metadata": {},
   "outputs": [
    {
     "name": "stdout",
     "output_type": "stream",
     "text": [
      "Below is the information of the data and the shape of elements:\n",
      "freq (2793,)\n",
      "mags (81, 2793)\n",
      "voltage (81,)\n"
     ]
    }
   ],
   "source": [
    "import h5py\n",
    "import numpy as np\n",
    "import matplotlib.pyplot as plt\n",
    "\n",
    "# Load the data in the h5 file (you don't need to do this while using QFit)\n",
    "print(\"Below is the information of the data and the shape of elements:\")\n",
    "with h5py.File(\"./example_data/joint_qubit_twotone.h5\", \"r\") as file:\n",
    "    # Print the information of the data\n",
    "    def print_info(name, obj):\n",
    "        print(name, obj.shape)\n",
    "    file.visititems(print_info)\n",
    "\n",
    "    # store the data in those variables\n",
    "    data = np.array(file[\"mags\"])\n",
    "    omega, voltage = np.meshgrid(file[\"freq\"], file[\"voltage\"], indexing=\"ij\")\n",
    "\n",
    "# Plot the data\n",
    "plt.figure(figsize=(7, 5.5))\n",
    "plt.pcolormesh(voltage, omega, data.T, cmap=\"PuOr\", rasterized=True)\n",
    "plt.colorbar()\n",
    "plt.xlabel(\"Voltage to the flux bias line [mV]\")\n",
    "plt.ylabel(\"Drive frequency [GHz]\")\n",
    "plt.title(\"Transmission magnitude\")\n",
    "plt.show()"
   ]
  },
  {
   "cell_type": "markdown",
   "metadata": {},
   "source": [
    "In the data, the peaks (appears as dark purple/dark yellow spots) represent resonances between the $\\omega$ and the transition frequencies. **Your task is to fit the data and extract the parameters.** - This is where `qfit` comes in. "
   ]
  },
  {
   "cell_type": "markdown",
   "metadata": {},
   "source": [
    "## Step 0: Build a numerical model and run `qfit`"
   ]
  },
  {
   "cell_type": "markdown",
   "metadata": {},
   "source": [
    "We have helped you to create a numerical model of the quantum system using `scqubits.HilbertSpace`. To see the usage of `scqubits` in detail, please refer to the [scqubits documentation](https://scqubits.readthedocs.io/en/latest/)."
   ]
  },
  {
   "cell_type": "code",
   "execution_count": 3,
   "metadata": {},
   "outputs": [],
   "source": [
    "import scqubits as scq\n",
    "\n",
    "fluxonium = scq.Fluxonium(\n",
    "    EJ = 3.0,\n",
    "    EC = 0.9,\n",
    "    EL = 0.25,\n",
    "    flux = 0.5,\n",
    "    cutoff = 100,\n",
    "    truncated_dim = 5,\n",
    "    id_str = \"Fluxonium\"\n",
    ")\n",
    "resonator = scq.Oscillator(\n",
    "    E_osc = 5.6,\n",
    "    l_osc = 1.0,\n",
    "    truncated_dim = 4,\n",
    "    id_str = \"Resonator\"\n",
    ")\n",
    "\n",
    "hilbert_space = scq.HilbertSpace([fluxonium, resonator])\n",
    "\n",
    "hilbert_space.add_interaction(\n",
    "    g = 1,\n",
    "    op1 = fluxonium.n_operator,\n",
    "    op2 = resonator.n_operator,\n",
    "    add_hc = False,\n",
    "    id_str = \"res-qubit\"\n",
    ")"
   ]
  },
  {
   "cell_type": "markdown",
   "metadata": {},
   "source": [
    "#### Provide experimental data and launch `qfit`\n",
    "\n",
    "Open the app using `Fit(<HilbertSpace>, <data file path>)`. An app (the graphical user interface, GUI) will pop up and we'll guide you through the GUI in the next few subsections. You may treat the following sections as a documentation and refer to it if necessary. Also you may click on the ? buttons for help."
   ]
  },
  {
   "cell_type": "code",
   "execution_count": 4,
   "metadata": {},
   "outputs": [],
   "source": [
    "from qfit import Fit\n",
    "\n",
    "file_path = \"./example_data/joint_qubit_twotone_unif.h5\"\n",
    "fit = Fit(hilbert_space, file_path)"
   ]
  },
  {
   "cell_type": "code",
   "execution_count": 5,
   "metadata": {},
   "outputs": [
    {
     "name": "stdout",
     "output_type": "stream",
     "text": [
      "[-0.19266055 -0.04444444] [1.02293578 1.01010101] (1044.0, 530.0)\n"
     ]
    }
   ],
   "source": [
    "edge_pts = fit._canvas.canvas.figure.bbox.width, fit._canvas.canvas.figure.bbox.height\n",
    "\n",
    "origin = fit._canvas.axes.transAxes.inverted().transform((0, 0))\n",
    "edge = fit._canvas.axes.transAxes.inverted().transform(edge_pts)\n",
    "\n",
    "print(origin, edge, edge_pts)"
   ]
  },
  {
   "cell_type": "code",
   "execution_count": 4,
   "metadata": {},
   "outputs": [
    {
     "data": {
      "text/plain": [
       "['_parents',\n",
       " '_invalid',\n",
       " '_shorthand_name',\n",
       " '_bbox',\n",
       " '_transform',\n",
       " '_points',\n",
       " '__module__',\n",
       " '__doc__',\n",
       " '__init__',\n",
       " '__str__',\n",
       " 'get_points',\n",
       " 'is_bbox',\n",
       " 'is_affine',\n",
       " 'frozen',\n",
       " '__array__',\n",
       " 'x0',\n",
       " 'y0',\n",
       " 'x1',\n",
       " 'y1',\n",
       " 'p0',\n",
       " 'p1',\n",
       " 'xmin',\n",
       " 'ymin',\n",
       " 'xmax',\n",
       " 'ymax',\n",
       " 'min',\n",
       " 'max',\n",
       " 'intervalx',\n",
       " 'intervaly',\n",
       " 'width',\n",
       " 'height',\n",
       " 'size',\n",
       " 'bounds',\n",
       " 'extents',\n",
       " 'containsx',\n",
       " 'containsy',\n",
       " 'contains',\n",
       " 'overlaps',\n",
       " 'fully_containsx',\n",
       " 'fully_containsy',\n",
       " 'fully_contains',\n",
       " 'fully_overlaps',\n",
       " 'transformed',\n",
       " 'coefs',\n",
       " 'anchored',\n",
       " 'shrunk',\n",
       " 'shrunk_to_aspect',\n",
       " 'splitx',\n",
       " 'splity',\n",
       " 'count_contains',\n",
       " 'count_overlaps',\n",
       " 'expanded',\n",
       " 'padded',\n",
       " 'translated',\n",
       " 'corners',\n",
       " 'rotated',\n",
       " 'union',\n",
       " 'intersection',\n",
       " 'INVALID_NON_AFFINE',\n",
       " 'INVALID_AFFINE',\n",
       " 'INVALID',\n",
       " 'pass_through',\n",
       " '__getstate__',\n",
       " '__setstate__',\n",
       " '__copy__',\n",
       " 'invalidate',\n",
       " '_invalidate_internal',\n",
       " 'set_children',\n",
       " '__dict__',\n",
       " '__weakref__',\n",
       " '__new__',\n",
       " '__repr__',\n",
       " '__hash__',\n",
       " '__getattribute__',\n",
       " '__setattr__',\n",
       " '__delattr__',\n",
       " '__lt__',\n",
       " '__le__',\n",
       " '__eq__',\n",
       " '__ne__',\n",
       " '__gt__',\n",
       " '__ge__',\n",
       " '__reduce_ex__',\n",
       " '__reduce__',\n",
       " '__subclasshook__',\n",
       " '__init_subclass__',\n",
       " '__format__',\n",
       " '__sizeof__',\n",
       " '__dir__',\n",
       " '__class__']"
      ]
     },
     "execution_count": 4,
     "metadata": {},
     "output_type": "execute_result"
    }
   ],
   "source": [
    "fit._canvas.canvas.figure.bbox.__dir__()"
   ]
  },
  {
   "cell_type": "code",
   "execution_count": 18,
   "metadata": {},
   "outputs": [
    {
     "data": {
      "text/plain": [
       "array([1310., 1060.])"
      ]
     },
     "execution_count": 18,
     "metadata": {},
     "output_type": "execute_result"
    }
   ],
   "source": [
    "fit._canvas.canvas.figure.bbox.size"
   ]
  },
  {
   "cell_type": "code",
   "execution_count": 25,
   "metadata": {},
   "outputs": [
    {
     "name": "stdout",
     "output_type": "stream",
     "text": [
      "[-0.06907895 -0.04373757] [1.00822368 1.00994036] [1310. 1060.]\n"
     ]
    }
   ],
   "source": [
    "edge_pts = fit._canvas.canvas.figure.bbox.size\n",
    "\n",
    "origin = fit._canvas.axes.transAxes.inverted().transform((0, 0))\n",
    "edge = fit._canvas.axes.transAxes.inverted().transform(edge_pts)\n",
    "\n",
    "print(origin, edge, edge_pts)"
   ]
  },
  {
   "cell_type": "code",
   "execution_count": 30,
   "metadata": {},
   "outputs": [
    {
     "data": {
      "text/plain": [
       "array([6.55, 5.3 ])"
      ]
     },
     "execution_count": 30,
     "metadata": {},
     "output_type": "execute_result"
    }
   ],
   "source": [
    "fit._canvas.canvas.figure.get_size_inches()"
   ]
  },
  {
   "cell_type": "code",
   "execution_count": 34,
   "metadata": {},
   "outputs": [
    {
     "data": {
      "text/plain": [
       "200.0"
      ]
     },
     "execution_count": 34,
     "metadata": {},
     "output_type": "execute_result"
    }
   ],
   "source": [
    "fit._canvas.canvas.figure.dpi"
   ]
  },
  {
   "cell_type": "code",
   "execution_count": 26,
   "metadata": {},
   "outputs": [
    {
     "name": "stdout",
     "output_type": "stream",
     "text": [
      "[-0.14973262 -0.09243697] [1.01782531 1.0210084 ] [1310. 1060.]\n"
     ]
    }
   ],
   "source": [
    "edge_pts = fit._canvas.canvas.figure.bbox.size\n",
    "\n",
    "origin = fit._canvas.axes.transAxes.inverted().transform((0, 0))\n",
    "edge = fit._canvas.axes.transAxes.inverted().transform(edge_pts)\n",
    "\n",
    "print(origin, edge, edge_pts)"
   ]
  },
  {
   "cell_type": "code",
   "execution_count": 23,
   "metadata": {},
   "outputs": [
    {
     "name": "stdout",
     "output_type": "stream",
     "text": [
      "[-0.14973262 -0.09243697] [-0.14081996 -0.07142857] [-0.00891266 -0.0210084 ]\n"
     ]
    }
   ],
   "source": [
    "edge_pts = fit._canvas.canvas.figure.bbox.width, fit._canvas.canvas.figure.bbox.height\n",
    "\n",
    "a = fit._canvas.axes.transAxes.inverted().transform((0, 0))\n",
    "b = fit._canvas.axes.transAxes.inverted().transform((10, 20))\n",
    "\n",
    "print(a, b, a - b)"
   ]
  },
  {
   "cell_type": "code",
   "execution_count": 24,
   "metadata": {},
   "outputs": [
    {
     "name": "stdout",
     "output_type": "stream",
     "text": [
      "[-0.06907895 -0.04373757] [-0.06085526 -0.02385686] [-0.00822368 -0.01988072]\n"
     ]
    }
   ],
   "source": [
    "edge_pts = fit._canvas.canvas.figure.bbox.width, fit._canvas.canvas.figure.bbox.height\n",
    "\n",
    "a = fit._canvas.axes.transAxes.inverted().transform((0, 0))\n",
    "b = fit._canvas.axes.transAxes.inverted().transform((10, 20))\n",
    "\n",
    "print(a, b, a - b)"
   ]
  },
  {
   "cell_type": "markdown",
   "metadata": {},
   "source": [
    "#### An overview of the GUI\n",
    "After launching the GUI, you will see a window below. The window is divided into parts as shown here. \n",
    "<p align=\"center\">\n",
    "  <img width=\"600\" src=\"resources/images/example_GUI_overview.png\">\n",
    "</p>  \n",
    "\n",
    "The fitting task is divided into 5 steps and you can navigate through them using the navigation menu: **Import**, **Calibrate**, **Extract**, **Pre-Fit** and **Fit**. Let's go through them one by one and you may perform the corresponding task as you read along."
   ]
  },
  {
   "cell_type": "markdown",
   "metadata": {},
   "source": [
    "## Step 1: Import data\n",
    "\n",
    "Once the file is imported, `QFit` parses what is contained in the data file. Under <span style=\"color:rgb(190, 130, 250);\">METADATA</span>, you may find the metadata of the imported file. What remains to be completed by you is to <span style=\"color:rgb(190, 130, 250);\">SELECT AXES</span> and thereby adjust orientation of the figure, using the panel below.\n",
    "<p align=\"center\">\n",
    "  <img width=\"300\" src=\"resources/images/example_axes_select.png\">\n",
    "</p> \n",
    "\n",
    "Once you select the desired x- and y-axis, the figure will be oriented correctly. And you can proceed to the next step by clicking \"Proceed to calibrate\" button."
   ]
  },
  {
   "cell_type": "markdown",
   "metadata": {},
   "source": [
    "## Step 2: Calibrate"
   ]
  },
  {
   "cell_type": "markdown",
   "metadata": {},
   "source": [
    "#### The calibration process\n",
    "\n",
    "In this step, we aim to\n",
    "1. map the **x-axis** of measurement data to the circuit parameter. In our case, we want to map the flux bias line voltage in mV the external flux in $\\Phi_0$. The same principle can also apply to circuits that are tuned by offset charges.\n",
    "2. map the **y-axis** of measurement data to frequencies **in unit of GHz**, which is `scqubit`'s default unit.\n",
    "\n",
    "`QFit` assumes a linear relationship between the flux bias line voltage ($x$) and external flux ($x'$), i.e. $x' = ax + b$. In this case, two pairs of $(x, x')$ values to determine the map, as shown below.\n",
    "<p align=\"center\">\n",
    "    <img width=\"350\" src=\"resources/images/calibration_notebook_ver.png\">\n",
    "</p>  \n"
   ]
  },
  {
   "cell_type": "markdown",
   "metadata": {},
   "source": [
    "#### Calibration in `qfit`: \n",
    "1. Click the \"EXTRACT RAW\" button. It activates the extraction for $x_1$. \n",
    "2. In the plot, identify/guess a zero-flux point and click. The $x_1$ coordinate will be automatically extracted.  \n",
    "3. Enter the value $x_1^\\prime$, which is 0.0 flux quantum.  \n",
    "4. Repeat the above steps for $x_2$.  \n",
    "    \n",
    "You can also check out the video below for a quick demonstration.\n",
    "\n",
    "<div style=\"text-align: center;\">\n",
    "  <video src=\"resources/videos/calibration.mp4\" width=\"500\" controls>\n",
    "    [Your browser does not support the video tag.]\n",
    "  </video>\n",
    "</div>\n",
    "\n",
    "Finally, you can re-plot and check the calibrated axes by clicking \"View Calibrated Axes\" on the top right corner."
   ]
  },
  {
   "cell_type": "markdown",
   "metadata": {},
   "source": [
    "**Tips**\n",
    "\n",
    "For a fluxonium, the Hamiltonian is periodic in flux with period $\\Phi_0$ and symmetric around $\\Phi_{\\rm ext} = \\frac{m}{2} \\Phi_0$, where $m$ is an integer. Therefore, we can identify and map the x coordinates with those properties."
   ]
  },
  {
   "cell_type": "markdown",
   "metadata": {},
   "source": [
    "## Step 3: Extract"
   ]
  },
  {
   "cell_type": "markdown",
   "metadata": {},
   "source": [
    "Now let's navigate to the next step and extract resonance peaks out of the spectroscopy data. In `QFit`, extracted data are grouped by  <span style=\"color:rgb(190, 130, 250);\">TRANSITIONS</span>. For example, there is a spectral line in the data which is believed to be the plasmon transition $|\\overline{0_{\\rm res},0_{\\rm qubit}}\\rangle \\rightarrow|\\overline{0_{\\rm res},2_{\\rm qubit}}\\rangle$. Follow these steps to extract and label these data points:\n",
    "\n",
    "1. Select / create a group of transition data and label it. In this case, we uses bare state label $(0, 0) \\to (0, 2)$:\n",
    "<p align=\"center\">\n",
    "    <img width=\"200\" src=\"resources/images/example_transition_n_label.png\">\n",
    "</p>  \n",
    "   \n",
    "2. Click on the canvas near a peak to select it. There a few helpful tools for you in this step (see tips below). Here is how it looks.\n",
    "<p align=\"center\">\n",
    "    <img width=\"250\" src=\"resources/images/example_extract02.png\">\n",
    "</p>  \n",
    "\n",
    "3. If you want to increase the fitting accuracy, extract more transitions as shown below by repeating step 1, 2.\n",
    "<p align=\"center\">\n",
    "    <img width=\"250\" src=\"resources/images/example_transitions.png\">\n",
    "</p>  "
   ]
  },
  {
   "cell_type": "markdown",
   "metadata": {},
   "source": [
    "**Tips**\n",
    "\n",
    "To assist you in the data extraction, the following button will be useful when playing with the canvas.\n",
    "<p align=\"center\">\n",
    "    <img width=\"500\" src=\"resources/images/example_MPL_buttons.png\">\n",
    "</p>  \n",
    "\n",
    "They are (from left to right): **Reset | Pan, Zoom, Extract | X-Snap, Y-Snap | View Calibrated Axes**. \n",
    "\n",
    "1. **Pan**, **Zoom** and **Extract** buttons controls the usage of the cursor.\n",
    "2. **X-Snap** button helps to align the x-coordinate among different transitions (groups). This tool help you align extracted data along the same flux points; by selecting fewer distinct flux points, it speeds up calculations for transition frequencies.\n",
    "\n",
    "<div style=\"display: flex; justify-content: center; align-items: center;\">\n",
    "    <img width=\"200\" src=\"resources/gifs/X_snap.gif\">\n",
    "    <div style=\"width: 50px;\"></div>  <!-- Spacer -->\n",
    "    <img width=\"223\" src=\"resources/images/example_same_x_preferred.png\">\n",
    "</div>\n",
    "\n",
    "3. And the **Y-Snap** button assists you to locate the peak precisely.\n",
    "<p align=\"center\">\n",
    "    <img width=\"200\" src=\"resources/gifs/Y_snap.gif\">\n",
    "</p>\n",
    "\n",
    "4. To **delete points**, select the corresponding transition and click on the vicinity of the extracted point.\n"
   ]
  },
  {
   "cell_type": "markdown",
   "metadata": {},
   "source": [
    "## Step 4: Pre-Fit\n",
    "\n",
    "After getting enough data, we now start to fit by eye, aiming to find a good initial guess for the numerical fitting. In this step, you may play with **sliders** to make the numerical spectrum match the data. During prefit, numerical spectrum will be calculated and plotted on top of the measurement data. Besides, status bar will be updated with current Mean Squared Error (MSE), indicating how close the fit is.\n",
    "\n",
    "<p align=\"center\">\n",
    "    <img height=\"20\" src=\"resources/images/example_prefit_status.png\">\n",
    "</p>\n",
    "\n",
    "You may also fine-tune your calibration by adjusting the corresponding sliders, which controls the value that the raw axes are mapped to.\n",
    "\n",
    "\n",
    "After getting a good set of parameters, you will click **Result To Fit** button on the bottom left to copy the parameters to the <span style=\"color:rgb(190, 130, 250);\">FIT</span> panel."
   ]
  },
  {
   "cell_type": "markdown",
   "metadata": {},
   "source": [
    "## Step 5: Fit\n",
    "Finally, we are ready to fit the data numerically! The main thing you need to do is configure the fitting parameters in the **FIT table**. You may adjust the following entries in the table:\n",
    "- Whether to **Fix** or free a parameter during fitting\n",
    "- The **Initial** guesses (from pre-fit)\n",
    "- **Min** and **Max** values\n",
    "\n",
    "Now click **Run Fit** and wait for the fitting to finish. \n",
    "\n",
    "If there is not warning or error message, congratulations! You have successfully fit the data and the fit parameters can be found in **Current** column. \n",
    "\n",
    "If you want to make use of the fitting result as a initial guess, and repeat the numerical fitting with different configurations, you may click **Result To Initial**. In addition, clicking **Result To Prefit** will send the fit result data to the <span style=\"color:rgb(190, 130, 250);\">PRE-FIT</span> panel."
   ]
  },
  {
   "cell_type": "markdown",
   "metadata": {},
   "source": [
    "## Save, load and export\n",
    "You may save / load the fitting session by clicking the <img width=\"20\" src=\"resources/images/example_menu.png\"> button on the top left. The session will be saved as a `.qfit` file."
   ]
  },
  {
   "cell_type": "markdown",
   "metadata": {},
   "source": [
    "You can also open a new window to load the previous session."
   ]
  },
  {
   "cell_type": "code",
   "execution_count": 1,
   "metadata": {},
   "outputs": [
    {
     "name": "stderr",
     "output_type": "stream",
     "text": [
      "qt.qpa.fonts: Populating font family aliases took 133 ms. Replace uses of missing font family \"Roboto Medium\" with one that exists to avoid this cost. \n"
     ]
    },
    {
     "name": "stderr",
     "output_type": "stream",
     "text": [
      "Traceback (most recent call last):\n",
      "  File \"/Users/pacosynthesis/Desktop/ScienceTech/Research/Superconducting_qubit_NU/qfit/qfit/qfit/controllers/io_ctrl.py\", line 433, in closeByMainWindow\n",
      "    status = self.closeAppAfterSaving()\n",
      "             ^^^^^^^^^^^^^^^^^^^^^^^^^^\n",
      "  File \"/Users/pacosynthesis/Desktop/ScienceTech/Research/Superconducting_qubit_NU/qfit/qfit/qfit/controllers/io_ctrl.py\", line 267, in closeAppAfterSaving\n",
      "    assert registryDictFromFile is not None, \"File not found\"\n",
      "           ^^^^^^^^^^^^^^^^^^^^^^^^^^^^^^^^\n",
      "AssertionError: File not found\n"
     ]
    }
   ],
   "source": [
    "from qfit import Fit\n",
    "# this is an example file we already prepared for you\n",
    "# If you didn't close the previous window, you'll get another one\n",
    "fit = Fit.open(\"example_data/QFit_Quick_Start.qfit\")"
   ]
  },
  {
   "cell_type": "markdown",
   "metadata": {},
   "source": [
    "There is another option for you to continue working in the notebook - export."
   ]
  },
  {
   "cell_type": "code",
   "execution_count": null,
   "metadata": {},
   "outputs": [],
   "source": [
    "# To get the HilbertSpace object and continue working on it\n",
    "fit_hilbertspace = fit.exportHilbertSpace(deepcopy=True, fromFit=True)\n",
    "fit_hilbertspace"
   ]
  },
  {
   "cell_type": "code",
   "execution_count": null,
   "metadata": {},
   "outputs": [],
   "source": [
    "# To get the parameters for the HilbertSpace and calibration\n",
    "fit_parameters = fit.exportParameters(fromFit=True)\n",
    "fit_parameters"
   ]
  },
  {
   "cell_type": "markdown",
   "metadata": {},
   "source": [
    "## Final words\n",
    "We hope you have enjoyed this tutorial and learned how to use `QFit`. There are a few advanved tips in `QFit_Advanced_Tips.ipynb`, please check out if you want to make full use of the package. \n",
    "\n",
    "If you have any questions, please feel free to contact us by:  \n",
    "Tianpu Zhao: TianpuZhao2022@u.northwestern.edu  \n",
    "Danyang Chen: DanyangChen2026@u.northwestern.edu"
   ]
  }
 ],
 "metadata": {
  "kernelspec": {
   "display_name": "Python 3 (ipykernel)",
   "language": "python",
   "name": "python3"
  },
  "language_info": {
   "codemirror_mode": {
    "name": "ipython",
    "version": 3
   },
   "file_extension": ".py",
   "mimetype": "text/x-python",
   "name": "python",
   "nbconvert_exporter": "python",
   "pygments_lexer": "ipython3",
   "version": "3.11.8"
  }
 },
 "nbformat": 4,
 "nbformat_minor": 2
}
