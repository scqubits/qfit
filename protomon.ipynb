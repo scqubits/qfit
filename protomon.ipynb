{
 "cells": [
  {
   "cell_type": "code",
   "execution_count": 7,
   "metadata": {},
   "outputs": [],
   "source": [
    "import scqubits as scq\n",
    "import numpy as np\n",
    "\n",
    "EJ = 6.5\n",
    "EL = 0.16\n",
    "EC = 2.4\n",
    "EC0 = 2.4\n",
    "\n",
    "# notice that the last four entries are capacitances to ground and the resonator\n",
    "protomon_yaml = f\"\"\"\n",
    "branches:\n",
    "- [\"JJ\",2,3, EJ = {EJ}, EC={EC}]\n",
    "- [\"JJ\", 1,4, EJ, EC]\n",
    "- [\"L\", 1,2, EL={EL}]\n",
    "- [\"L\", 3,4, EL]\n",
    "- [\"L\", 3,1, EL]\n",
    "- [\"C\", 1,3, EC0 = {EC0}]\n",
    "# - [\"C\", 1, 0, ECg1 = 0.2]\n",
    "# - [\"C\", 2, 0, ECg2 = 0.2]\n",
    "# - [\"C\", 3, 0, ECg3 = 0.2]\n",
    "# - [\"C\", 4, 0, ECg4 = 0.2]\n",
    "\"\"\"\n",
    "protomon = scq.Circuit(protomon_yaml, from_file=False, ext_basis=\"harmonic\", use_dynamic_flux_grouping=False)\n",
    "# setting cutoff\n",
    "protomon.cutoff_ext_1 = 30\n",
    "protomon.cutoff_ext_2 = 30\n",
    "protomon.cutoff_ext_3 = 30\n",
    "protomon.configure(\n",
    "    system_hierarchy=[[1, 2], [3]],\n",
    "    subsystem_trunc_dims=[20, 5],\n",
    "    closure_branches=[protomon.branches[0], protomon.branches[1]],\n",
    "    transformation_matrix=0.5*np.array(\n",
    "        [\n",
    "            [1, 0, -1, 1],\n",
    "            [-1, -2, 1, 1],\n",
    "            [1, 0, 1, 1],\n",
    "            [-1, 2, -1, 1],\n",
    "        ]\n",
    "    )\n",
    ")\n",
    "hilbertspace = scq.HilbertSpace([protomon])"
   ]
  },
  {
   "cell_type": "code",
   "execution_count": 8,
   "metadata": {},
   "outputs": [],
   "source": [
    "filepath = [\n",
    "    \"example_data/protomon/spec_scan_Point_1.mat\",\n",
    "    # \"example_data/protomon/spec_scan_Point_2.mat\",\n",
    "]"
   ]
  },
  {
   "cell_type": "code",
   "execution_count": 9,
   "metadata": {},
   "outputs": [
    {
     "name": "stderr",
     "output_type": "stream",
     "text": [
      "UserWarning: The input coordinates to pcolormesh are interpreted as cell centers, but are not monotonically increasing or decreasing. This may lead to incorrectly calculated cell edges, in which case, please supply explicit cell edges to pcolormesh.\n",
      " /Users/Harry/Documents/Programs/qfit/qfit/models/data_structures.py: 506"
     ]
    }
   ],
   "source": [
    "from qfit import Fit\n",
    "fit = Fit(hilbertspace, filepath)"
   ]
  },
  {
   "cell_type": "code",
   "execution_count": 10,
   "metadata": {},
   "outputs": [
    {
     "data": {
      "text/plain": [
       "odict_keys(['__header__', '__version__', '__globals__', 'cwvector', 'specamp', 'specfreq', 'None', 'specphase', 'yokovectorC', '__function_workspace__'])"
      ]
     },
     "execution_count": 10,
     "metadata": {},
     "output_type": "execute_result"
    }
   ],
   "source": [
    "fit._measData.currentMeasData.rawData.keys()"
   ]
  },
  {
   "cell_type": "code",
   "execution_count": 4,
   "metadata": {},
   "outputs": [
    {
     "data": {
      "text/plain": [
       "(1, 201)"
      ]
     },
     "execution_count": 4,
     "metadata": {},
     "output_type": "execute_result"
    }
   ],
   "source": [
    "fit._measData.currentMeasData.rawData[\"yokovectorC\"].shape"
   ]
  },
  {
   "cell_type": "code",
   "execution_count": 12,
   "metadata": {},
   "outputs": [],
   "source": [
    "import matplotlib.pyplot as plt\n",
    "data = fit._measData.currentMeasData.rawData[\"cwvector\"]\n",
    "plt.plot(data)\n",
    "plt.show()"
   ]
  },
  {
   "cell_type": "code",
   "execution_count": 20,
   "metadata": {},
   "outputs": [
    {
     "name": "stdout",
     "output_type": "stream",
     "text": [
      "dict_keys(['__header__', '__version__', '__globals__', 'cwvector', 'specamp', 'specfreq', 'None', 'specphase', 'yokovectorC', '__function_workspace__'])\n",
      "dict_keys(['__header__', '__version__', '__globals__', 'cwvector', 'specamp', 'specfreq', 'None', 'specphase', 'yokovectorC', '__function_workspace__'])\n",
      "dict_keys(['__header__', '__version__', '__globals__', 'cwvector', 'specamp', 'specfreq', 'None', 'specphase', 'yokovectorC', '__function_workspace__'])\n",
      "dict_keys(['__header__', '__version__', '__globals__', 'cwvector', 'specamp', 'specfreq', 'None', 'specphase', 'yokovectorC', '__function_workspace__'])\n",
      "dict_keys(['__header__', '__version__', '__globals__', 'cwvector', 'specamp', 'specfreq', 'None', 'specphase', 'yokovectorC', '__function_workspace__'])\n",
      "dict_keys(['__header__', '__version__', '__globals__', 'cwvector', 'specamp', 'specfreq', 'None', 'specphase', 'yokovectorC', '__function_workspace__'])\n",
      "dict_keys(['__header__', '__version__', '__globals__', 'cwvector', 'specamp', 'specfreq', 'None', 'specphase', 'yokovectorC', '__function_workspace__'])\n",
      "dict_keys(['__header__', '__version__', '__globals__', 'cwvector', 'specamp', 'specfreq', 'None', 'specphase', 'yokovectorC', '__function_workspace__'])\n",
      "dict_keys(['__header__', '__version__', '__globals__', 'cwvector', 'specamp', 'specfreq', 'None', 'specphase', 'yokovectorC', '__function_workspace__'])\n",
      "dict_keys(['__header__', '__version__', '__globals__', 'cwvector', 'specamp', 'specfreq', 'None', 'specphase', 'yokovectorC', '__function_workspace__'])\n"
     ]
    }
   ],
   "source": [
    "from scipy.io import loadmat\n",
    "\n",
    "for dataIdx in range(1, 11):\n",
    "    dataCollection = loadmat(f\"example_data/protomon/spec_scan_Point_{dataIdx}.mat\",)\n",
    "    print(dataCollection.keys())"
   ]
  },
  {
   "cell_type": "code",
   "execution_count": 19,
   "metadata": {},
   "outputs": [
    {
     "data": {
      "text/plain": [
       "dict_keys(['__header__', '__version__', '__globals__', 'cwvector', 'specamp', 'specfreq', 'None', 'specphase', 'yokovectorC', '__function_workspace__'])"
      ]
     },
     "execution_count": 19,
     "metadata": {},
     "output_type": "execute_result"
    }
   ],
   "source": [
    "dataCollection.keys()"
   ]
  },
  {
   "cell_type": "code",
   "execution_count": 8,
   "metadata": {},
   "outputs": [],
   "source": [
    "fit._measData.switchFig(\"spec_scan_Point_1.mat\")"
   ]
  },
  {
   "cell_type": "code",
   "execution_count": 9,
   "metadata": {},
   "outputs": [
    {
     "ename": "EOFError",
     "evalue": "Ran out of input",
     "output_type": "error",
     "traceback": [
      "\u001b[0;31m---------------------------------------------------------------------------\u001b[0m",
      "\u001b[0;31mEOFError\u001b[0m                                  Traceback (most recent call last)",
      "Cell \u001b[0;32mIn[9], line 1\u001b[0m\n\u001b[0;32m----> 1\u001b[0m fit\u001b[38;5;241m.\u001b[39mopen(\u001b[38;5;124m\"\u001b[39m\u001b[38;5;124m./example_data/protomon/test_1_2.qfit\u001b[39m\u001b[38;5;124m\"\u001b[39m)\n",
      "File \u001b[0;32m~/Documents/Programs/qfit/qfit/core/qfit.py:189\u001b[0m, in \u001b[0;36mFit.open\u001b[0;34m(cls, fileName)\u001b[0m\n\u001b[1;32m    186\u001b[0m instance \u001b[38;5;241m=\u001b[39m \u001b[38;5;28mcls\u001b[39m\u001b[38;5;241m.\u001b[39m\u001b[38;5;21m__new__\u001b[39m(\u001b[38;5;28mcls\u001b[39m)\n\u001b[1;32m    188\u001b[0m \u001b[38;5;66;03m# load registry\u001b[39;00m\n\u001b[0;32m--> 189\u001b[0m instance\u001b[38;5;241m.\u001b[39m_ioCtrl\u001b[38;5;241m.\u001b[39mopenFile(\n\u001b[1;32m    190\u001b[0m     from_menu\u001b[38;5;241m=\u001b[39m\u001b[38;5;28;01mFalse\u001b[39;00m,\n\u001b[1;32m    191\u001b[0m     fileName\u001b[38;5;241m=\u001b[39mfileName,\n\u001b[1;32m    192\u001b[0m )\n\u001b[1;32m    194\u001b[0m \u001b[38;5;28;01mif\u001b[39;00m \u001b[38;5;129;01mnot\u001b[39;00m settings\u001b[38;5;241m.\u001b[39mEXECUTED_IN_IPYTHON:\n\u001b[1;32m    195\u001b[0m     instance\u001b[38;5;241m.\u001b[39mapp\u001b[38;5;241m.\u001b[39mexec_()\n",
      "File \u001b[0;32m~/Documents/Programs/qfit/qfit/controllers/io_ctrl.py:381\u001b[0m, in \u001b[0;36mIOCtrl.openFile\u001b[0;34m(self, _IOCtrl__value, from_menu, fileName)\u001b[0m\n\u001b[1;32m    377\u001b[0m     registryDict \u001b[38;5;241m=\u001b[39m \u001b[38;5;28mself\u001b[39m\u001b[38;5;241m.\u001b[39m_registryDictFromDialog(\n\u001b[1;32m    378\u001b[0m         window_initialized\u001b[38;5;241m=\u001b[39mfrom_menu\n\u001b[1;32m    379\u001b[0m     )\n\u001b[1;32m    380\u001b[0m \u001b[38;5;28;01melse\u001b[39;00m:\n\u001b[0;32m--> 381\u001b[0m     registryDict \u001b[38;5;241m=\u001b[39m Registry\u001b[38;5;241m.\u001b[39mdictFromFile(fileName)\n\u001b[1;32m    382\u001b[0m     \u001b[38;5;28;01mif\u001b[39;00m registryDict \u001b[38;5;129;01mis\u001b[39;00m \u001b[38;5;28;01mNone\u001b[39;00m:\n\u001b[1;32m    383\u001b[0m         \u001b[38;5;28;01mraise\u001b[39;00m \u001b[38;5;167;01mFileNotFoundError\u001b[39;00m(\u001b[38;5;124mf\u001b[39m\u001b[38;5;124m\"\u001b[39m\u001b[38;5;124mCan\u001b[39m\u001b[38;5;124m'\u001b[39m\u001b[38;5;124mt load file \u001b[39m\u001b[38;5;124m'\u001b[39m\u001b[38;5;132;01m{\u001b[39;00mfileName\u001b[38;5;132;01m}\u001b[39;00m\u001b[38;5;124m'\u001b[39m\u001b[38;5;124m.\u001b[39m\u001b[38;5;124m\"\u001b[39m)\n",
      "File \u001b[0;32m~/Documents/Programs/qfit/qfit/models/registry.py:225\u001b[0m, in \u001b[0;36mRegistry.dictFromFile\u001b[0;34m(filename)\u001b[0m\n\u001b[1;32m    223\u001b[0m \u001b[38;5;28;01mtry\u001b[39;00m:\n\u001b[1;32m    224\u001b[0m     \u001b[38;5;28;01mwith\u001b[39;00m \u001b[38;5;28mopen\u001b[39m(filename, \u001b[38;5;124m\"\u001b[39m\u001b[38;5;124mrb\u001b[39m\u001b[38;5;124m\"\u001b[39m) \u001b[38;5;28;01mas\u001b[39;00m f:\n\u001b[0;32m--> 225\u001b[0m         \u001b[38;5;28;01mreturn\u001b[39;00m pickle\u001b[38;5;241m.\u001b[39mload(f)\n\u001b[1;32m    226\u001b[0m \u001b[38;5;28;01mexcept\u001b[39;00m \u001b[38;5;167;01mFileNotFoundError\u001b[39;00m:\n\u001b[1;32m    227\u001b[0m     \u001b[38;5;28;01mreturn\u001b[39;00m \u001b[38;5;28;01mNone\u001b[39;00m\n",
      "\u001b[0;31mEOFError\u001b[0m: Ran out of input"
     ]
    }
   ],
   "source": [
    "fit.open(\"./example_data/protomon/test_1_2.qfit\")"
   ]
  }
 ],
 "metadata": {
  "kernelspec": {
   "display_name": "qfit_test2",
   "language": "python",
   "name": "python3"
  },
  "language_info": {
   "codemirror_mode": {
    "name": "ipython",
    "version": 3
   },
   "file_extension": ".py",
   "mimetype": "text/x-python",
   "name": "python",
   "nbconvert_exporter": "python",
   "pygments_lexer": "ipython3",
   "version": "3.11.4"
  }
 },
 "nbformat": 4,
 "nbformat_minor": 2
}
