{
 "cells": [
  {
   "cell_type": "code",
   "execution_count": 1,
   "metadata": {},
   "outputs": [],
   "source": [
    "import scqubits as scq\n",
    "import numpy as np\n",
    "\n",
    "EJ = 6.5\n",
    "EL = 0.16\n",
    "EC = 2.4\n",
    "EC0 = 2.4\n",
    "\n",
    "# notice that the last four entries are capacitances to ground and the resonator\n",
    "protomon_yaml = f\"\"\"\n",
    "branches:\n",
    "- [\"JJ\",2,3, EJ = {EJ}, EC={EC}]\n",
    "- [\"JJ\", 1,4, EJ, EC]\n",
    "- [\"L\", 1,2, EL={EL}]\n",
    "- [\"L\", 3,4, EL]\n",
    "- [\"L\", 3,1, EL]\n",
    "- [\"C\", 1,3, EC0 = {EC0}]\n",
    "# - [\"C\", 1, 0, ECg1 = 0.2]\n",
    "# - [\"C\", 2, 0, ECg2 = 0.2]\n",
    "# - [\"C\", 3, 0, ECg3 = 0.2]\n",
    "# - [\"C\", 4, 0, ECg4 = 0.2]\n",
    "\"\"\"\n",
    "protomon = scq.Circuit(protomon_yaml, from_file=False, ext_basis=\"harmonic\", use_dynamic_flux_grouping=False)\n",
    "# setting cutoff\n",
    "protomon.cutoff_ext_1 = 30\n",
    "protomon.cutoff_ext_2 = 30\n",
    "protomon.cutoff_ext_3 = 30\n",
    "protomon.configure(\n",
    "    system_hierarchy=[[1, 2], [3]],\n",
    "    subsystem_trunc_dims=[20, 5],\n",
    "    closure_branches=[protomon.branches[0], protomon.branches[1]],\n",
    "    transformation_matrix=0.5*np.array(\n",
    "        [\n",
    "            [1, 0, -1, 1],\n",
    "            [-1, -2, 1, 1],\n",
    "            [1, 0, 1, 1],\n",
    "            [-1, 2, -1, 1],\n",
    "        ]\n",
    "    )\n",
    ")\n",
    "hilbertspace = scq.HilbertSpace([protomon])"
   ]
  },
  {
   "cell_type": "code",
   "execution_count": 2,
   "metadata": {},
   "outputs": [],
   "source": [
    "filepath = [\n",
    "    \"example_data/protomon/spec_scan_Point_11.mat\",\n",
    "    # \"example_data/protomon/spec_scan_Point_2.mat\",\n",
    "]"
   ]
  },
  {
   "cell_type": "code",
   "execution_count": 3,
   "metadata": {},
   "outputs": [
    {
     "name": "stderr",
     "output_type": "stream",
     "text": [
      "qt.qpa.fonts: Populating font family aliases took 93 ms. Replace uses of missing font family \"Roboto Medium\" with one that exists to avoid this cost. \n"
     ]
    },
    {
     "ename": "FileNotFoundError",
     "evalue": "File 'example_data/protomon/spec_scan_Point_11.mat' does not exist.",
     "output_type": "error",
     "traceback": [
      "\u001b[0;31m---------------------------------------------------------------------------\u001b[0m",
      "\u001b[0;31mFileNotFoundError\u001b[0m                         Traceback (most recent call last)",
      "Cell \u001b[0;32mIn[3], line 2\u001b[0m\n\u001b[1;32m      1\u001b[0m \u001b[38;5;28;01mfrom\u001b[39;00m \u001b[38;5;21;01mqfit\u001b[39;00m \u001b[38;5;28;01mimport\u001b[39;00m Fit\n\u001b[0;32m----> 2\u001b[0m fit \u001b[38;5;241m=\u001b[39m Fit(hilbertspace, filepath)\n",
      "File \u001b[0;32m~/Documents/Programs/qfit/qfit/core/qfit.py:131\u001b[0m, in \u001b[0;36mFit.__init__\u001b[0;34m(self, hilbertSpace, measurementFileName)\u001b[0m\n\u001b[1;32m    124\u001b[0m \u001b[38;5;28;01mdef\u001b[39;00m \u001b[38;5;21m__init__\u001b[39m(\n\u001b[1;32m    125\u001b[0m     \u001b[38;5;28mself\u001b[39m, \n\u001b[1;32m    126\u001b[0m     hilbertSpace: HilbertSpace, \n\u001b[1;32m    127\u001b[0m     measurementFileName: Optional[\u001b[38;5;28mstr\u001b[39m \u001b[38;5;241m|\u001b[39m List[\u001b[38;5;28mstr\u001b[39m]] \u001b[38;5;241m=\u001b[39m \u001b[38;5;28;01mNone\u001b[39;00m\n\u001b[1;32m    128\u001b[0m ):\n\u001b[1;32m    129\u001b[0m     \u001b[38;5;28mself\u001b[39m\u001b[38;5;241m.\u001b[39m_mainWindow: MainWindow\n\u001b[0;32m--> 131\u001b[0m     \u001b[38;5;28mself\u001b[39m\u001b[38;5;241m.\u001b[39m_ioCtrl\u001b[38;5;241m.\u001b[39mnewProject(\n\u001b[1;32m    132\u001b[0m         from_menu\u001b[38;5;241m=\u001b[39m\u001b[38;5;28;01mFalse\u001b[39;00m,\n\u001b[1;32m    133\u001b[0m         hilbertSpace\u001b[38;5;241m=\u001b[39mhilbertSpace,\n\u001b[1;32m    134\u001b[0m         measurementFileName\u001b[38;5;241m=\u001b[39mmeasurementFileName,\n\u001b[1;32m    135\u001b[0m     )\n\u001b[1;32m    137\u001b[0m     \u001b[38;5;28;01mif\u001b[39;00m \u001b[38;5;129;01mnot\u001b[39;00m settings\u001b[38;5;241m.\u001b[39mEXECUTED_IN_IPYTHON:\n\u001b[1;32m    138\u001b[0m         \u001b[38;5;28mself\u001b[39m\u001b[38;5;241m.\u001b[39mapp\u001b[38;5;241m.\u001b[39mexec_()\n",
      "File \u001b[0;32m~/Documents/Programs/qfit/qfit/controllers/io_ctrl.py:379\u001b[0m, in \u001b[0;36mIOCtrl.newProject\u001b[0;34m(self, _IOCtrl__value, from_menu, hilbertSpace, measurementFileName)\u001b[0m\n\u001b[1;32m    376\u001b[0m \u001b[38;5;28mself\u001b[39m\u001b[38;5;241m.\u001b[39mfullReplaceHS(\u001b[38;5;28mself\u001b[39m\u001b[38;5;241m.\u001b[39mhilbertSpace)\n\u001b[1;32m    378\u001b[0m \u001b[38;5;66;03m# feed the measurement data to the measDataSet\u001b[39;00m\n\u001b[0;32m--> 379\u001b[0m openWindow \u001b[38;5;241m=\u001b[39m \u001b[38;5;28mself\u001b[39m\u001b[38;5;241m.\u001b[39mmeasDataSet\u001b[38;5;241m.\u001b[39mloadData(measurementFileName)\n\u001b[1;32m    380\u001b[0m \u001b[38;5;66;03m# set the focus to the main window after opening a file\u001b[39;00m\n\u001b[1;32m    381\u001b[0m \u001b[38;5;28mself\u001b[39m\u001b[38;5;241m.\u001b[39mmainWindow\u001b[38;5;241m.\u001b[39mactivateWindow()\n",
      "File \u001b[0;32m~/Documents/Programs/qfit/qfit/models/measurement_data.py:375\u001b[0m, in \u001b[0;36mMeasDataSet.loadData\u001b[0;34m(self, fileName)\u001b[0m\n\u001b[1;32m    372\u001b[0m     \u001b[38;5;28;01mfor\u001b[39;00m file \u001b[38;5;129;01min\u001b[39;00m fileName:\n\u001b[1;32m    373\u001b[0m         \u001b[38;5;28;01mif\u001b[39;00m \u001b[38;5;129;01mnot\u001b[39;00m os\u001b[38;5;241m.\u001b[39mpath\u001b[38;5;241m.\u001b[39misfile(file):\n\u001b[1;32m    374\u001b[0m         \u001b[38;5;66;03m# TODO: show an error in the GUI instead of raising an error\u001b[39;00m\n\u001b[0;32m--> 375\u001b[0m             \u001b[38;5;28;01mraise\u001b[39;00m \u001b[38;5;167;01mFileNotFoundError\u001b[39;00m(\u001b[38;5;124mf\u001b[39m\u001b[38;5;124m\"\u001b[39m\u001b[38;5;124mFile \u001b[39m\u001b[38;5;124m'\u001b[39m\u001b[38;5;132;01m{\u001b[39;00mfile\u001b[38;5;132;01m}\u001b[39;00m\u001b[38;5;124m'\u001b[39m\u001b[38;5;124m does not exist.\u001b[39m\u001b[38;5;124m\"\u001b[39m)\n\u001b[1;32m    376\u001b[0m             \u001b[38;5;28;01mreturn\u001b[39;00m \u001b[38;5;28;01mTrue\u001b[39;00m\n\u001b[1;32m    377\u001b[0m \u001b[38;5;28;01melse\u001b[39;00m:\n\u001b[1;32m    378\u001b[0m     \u001b[38;5;66;03m# TODO: show an error in the GUI instead of raising an error\u001b[39;00m\n",
      "\u001b[0;31mFileNotFoundError\u001b[0m: File 'example_data/protomon/spec_scan_Point_11.mat' does not exist."
     ]
    },
    {
     "name": "stderr",
     "output_type": "stream",
     "text": [
      "Traceback (most recent call last):\n",
      "  File \"/Users/Harry/Documents/Programs/qfit/qfit/controllers/plotting_ctrl.py\", line 332, in toggleCalibrateAxes\n",
      "    self.setXYAxes(self.measData.currentMeasData)\n",
      "  File \"/Users/Harry/Documents/Programs/qfit/qfit/controllers/plotting_ctrl.py\", line 358, in setXYAxes\n",
      "    currentSweepParam = self.XCaliFuncDict[\n",
      "                        ^^^^^^^^^^^^^^^^^^\n",
      "AttributeError: 'PlottingCtrl' object has no attribute 'XCaliFuncDict'\n",
      "Traceback (most recent call last):\n",
      "  File \"/Users/Harry/Documents/Programs/qfit/qfit/models/measurement_data.py\", line 816, in storeRawXYConfig\n",
      "    data.swapXY()\n",
      "  File \"/Users/Harry/Documents/Programs/qfit/qfit/models/data_structures.py\", line 1449, in swapXY\n",
      "    self._removePixelCoord()\n",
      "  File \"/Users/Harry/Documents/Programs/qfit/qfit/models/data_structures.py\", line 1415, in _removePixelCoord\n",
      "    self._resetPrincipalXY()\n",
      "  File \"/Users/Harry/Documents/Programs/qfit/qfit/models/data_structures.py\", line 1443, in _resetPrincipalXY\n",
      "    self._principalY = self.rawY.itemByIndex(0)\n",
      "                       ^^^^^^^^^^^^^^^^^^^^^^^^\n",
      "  File \"/Users/Harry/Documents/Programs/qfit/qfit/utils/helpers.py\", line 100, in itemByIndex\n",
      "    return DictItem(self.keyList[itemIndex], self.valList[itemIndex])\n",
      "                    ~~~~~~~~~~~~^^^^^^^^^^^\n",
      "IndexError: list index out of range\n",
      "Traceback (most recent call last):\n",
      "  File \"/Users/Harry/Documents/Programs/qfit/qfit/models/measurement_data.py\", line 816, in storeRawXYConfig\n",
      "    data.swapXY()\n",
      "  File \"/Users/Harry/Documents/Programs/qfit/qfit/models/data_structures.py\", line 1465, in swapXY\n",
      "    self._resetPrincipalXY()\n",
      "  File \"/Users/Harry/Documents/Programs/qfit/qfit/models/data_structures.py\", line 1441, in _resetPrincipalXY\n",
      "    self._principalX = self.rawX.itemByIndex(0)\n",
      "                       ^^^^^^^^^^^^^^^^^^^^^^^^\n",
      "  File \"/Users/Harry/Documents/Programs/qfit/qfit/utils/helpers.py\", line 100, in itemByIndex\n",
      "    return DictItem(self.keyList[itemIndex], self.valList[itemIndex])\n",
      "                    ~~~~~~~~~~~~^^^^^^^^^^^\n",
      "IndexError: list index out of range\n",
      "Traceback (most recent call last):\n",
      "  File \"/Users/Harry/Documents/Programs/qfit/qfit/models/measurement_data.py\", line 816, in storeRawXYConfig\n",
      "    data.swapXY()\n",
      "  File \"/Users/Harry/Documents/Programs/qfit/qfit/models/data_structures.py\", line 1465, in swapXY\n",
      "    self._resetPrincipalXY()\n",
      "  File \"/Users/Harry/Documents/Programs/qfit/qfit/models/data_structures.py\", line 1443, in _resetPrincipalXY\n",
      "    self._principalY = self.rawY.itemByIndex(0)\n",
      "                       ^^^^^^^^^^^^^^^^^^^^^^^^\n",
      "  File \"/Users/Harry/Documents/Programs/qfit/qfit/utils/helpers.py\", line 100, in itemByIndex\n",
      "    return DictItem(self.keyList[itemIndex], self.valList[itemIndex])\n",
      "                    ~~~~~~~~~~~~^^^^^^^^^^^\n",
      "IndexError: list index out of range\n"
     ]
    }
   ],
   "source": [
    "from qfit import Fit\n",
    "fit = Fit(hilbertspace, filepath)"
   ]
  },
  {
   "cell_type": "code",
   "execution_count": 4,
   "metadata": {},
   "outputs": [
    {
     "ename": "NameError",
     "evalue": "name 'fit' is not defined",
     "output_type": "error",
     "traceback": [
      "\u001b[0;31m---------------------------------------------------------------------------\u001b[0m",
      "\u001b[0;31mNameError\u001b[0m                                 Traceback (most recent call last)",
      "Cell \u001b[0;32mIn[4], line 1\u001b[0m\n\u001b[0;32m----> 1\u001b[0m fit\u001b[38;5;241m.\u001b[39m_measData\u001b[38;5;241m.\u001b[39mcurrentMeasData\n",
      "\u001b[0;31mNameError\u001b[0m: name 'fit' is not defined"
     ]
    }
   ],
   "source": [
    "fit._measData.currentMeasData"
   ]
  },
  {
   "cell_type": "code",
   "execution_count": 19,
   "metadata": {},
   "outputs": [
    {
     "name": "stderr",
     "output_type": "stream",
     "text": [
      "Traceback (most recent call last):\n",
      "  File \"/Users/Harry/Documents/Programs/qfit/qfit/controllers/io_ctrl.py\", line 437, in saveFile\n",
      "    self._saveProject(save_as=False)\n",
      "  File \"/Users/Harry/Documents/Programs/qfit/qfit/controllers/io_ctrl.py\", line 258, in _saveProject\n",
      "    self.registry.exportPkl(fileName)\n",
      "  File \"/Users/Harry/Documents/Programs/qfit/qfit/models/registry.py\", line 207, in exportPkl\n",
      "    pickle.dump(self.exportDict(), f)\n",
      "TypeError: cannot pickle 'property' object\n",
      "Traceback (most recent call last):\n",
      "  File \"/Users/Harry/Documents/Programs/qfit/qfit/controllers/io_ctrl.py\", line 464, in closeByMainWindow\n",
      "    status = self._closeAppAfterSaving()\n",
      "             ^^^^^^^^^^^^^^^^^^^^^^^^^^^\n",
      "  File \"/Users/Harry/Documents/Programs/qfit/qfit/controllers/io_ctrl.py\", line 276, in _closeAppAfterSaving\n",
      "    Registry.dictFromFile(self.mainWindow.projectFile)\n",
      "  File \"/Users/Harry/Documents/Programs/qfit/qfit/models/registry.py\", line 223, in dictFromFile\n",
      "    return pickle.load(f)\n",
      "           ^^^^^^^^^^^^^^\n",
      "EOFError: Ran out of input\n"
     ]
    }
   ],
   "source": [
    "fit._measData.switchFig(\"spec_scan_Point_1.mat\")"
   ]
  },
  {
   "cell_type": "code",
   "execution_count": 21,
   "metadata": {},
   "outputs": [
    {
     "ename": "EOFError",
     "evalue": "Ran out of input",
     "output_type": "error",
     "traceback": [
      "\u001b[0;31m---------------------------------------------------------------------------\u001b[0m",
      "\u001b[0;31mEOFError\u001b[0m                                  Traceback (most recent call last)",
      "Cell \u001b[0;32mIn[21], line 1\u001b[0m\n\u001b[0;32m----> 1\u001b[0m fit\u001b[38;5;241m.\u001b[39mopen(\u001b[38;5;124m\"\u001b[39m\u001b[38;5;124m./example_data/protomon/test_1_2.qfit\u001b[39m\u001b[38;5;124m\"\u001b[39m)\n",
      "File \u001b[0;32m~/Documents/Programs/qfit/qfit/core/qfit.py:189\u001b[0m, in \u001b[0;36mFit.open\u001b[0;34m(cls, fileName)\u001b[0m\n\u001b[1;32m    186\u001b[0m instance \u001b[38;5;241m=\u001b[39m \u001b[38;5;28mcls\u001b[39m\u001b[38;5;241m.\u001b[39m\u001b[38;5;21m__new__\u001b[39m(\u001b[38;5;28mcls\u001b[39m)\n\u001b[1;32m    188\u001b[0m \u001b[38;5;66;03m# load registry\u001b[39;00m\n\u001b[0;32m--> 189\u001b[0m instance\u001b[38;5;241m.\u001b[39m_ioCtrl\u001b[38;5;241m.\u001b[39mopenFile(\n\u001b[1;32m    190\u001b[0m     from_menu\u001b[38;5;241m=\u001b[39m\u001b[38;5;28;01mFalse\u001b[39;00m,\n\u001b[1;32m    191\u001b[0m     fileName\u001b[38;5;241m=\u001b[39mfileName,\n\u001b[1;32m    192\u001b[0m )\n\u001b[1;32m    194\u001b[0m \u001b[38;5;28;01mif\u001b[39;00m \u001b[38;5;129;01mnot\u001b[39;00m settings\u001b[38;5;241m.\u001b[39mEXECUTED_IN_IPYTHON:\n\u001b[1;32m    195\u001b[0m     instance\u001b[38;5;241m.\u001b[39mapp\u001b[38;5;241m.\u001b[39mexec_()\n",
      "File \u001b[0;32m~/Documents/Programs/qfit/qfit/controllers/io_ctrl.py:415\u001b[0m, in \u001b[0;36mIOCtrl.openFile\u001b[0;34m(self, _IOCtrl__value, from_menu, fileName)\u001b[0m\n\u001b[1;32m    411\u001b[0m     registryDict \u001b[38;5;241m=\u001b[39m \u001b[38;5;28mself\u001b[39m\u001b[38;5;241m.\u001b[39m_registryDictFromDialog(\n\u001b[1;32m    412\u001b[0m         window_initialized\u001b[38;5;241m=\u001b[39mfrom_menu\n\u001b[1;32m    413\u001b[0m     )\n\u001b[1;32m    414\u001b[0m \u001b[38;5;28;01melse\u001b[39;00m:\n\u001b[0;32m--> 415\u001b[0m     registryDict \u001b[38;5;241m=\u001b[39m Registry\u001b[38;5;241m.\u001b[39mdictFromFile(fileName)\n\u001b[1;32m    416\u001b[0m     \u001b[38;5;28;01mif\u001b[39;00m registryDict \u001b[38;5;129;01mis\u001b[39;00m \u001b[38;5;28;01mNone\u001b[39;00m:\n\u001b[1;32m    417\u001b[0m         \u001b[38;5;28;01mraise\u001b[39;00m \u001b[38;5;167;01mFileNotFoundError\u001b[39;00m(\u001b[38;5;124mf\u001b[39m\u001b[38;5;124m\"\u001b[39m\u001b[38;5;124mCan\u001b[39m\u001b[38;5;124m'\u001b[39m\u001b[38;5;124mt load file \u001b[39m\u001b[38;5;124m'\u001b[39m\u001b[38;5;132;01m{\u001b[39;00mfileName\u001b[38;5;132;01m}\u001b[39;00m\u001b[38;5;124m'\u001b[39m\u001b[38;5;124m.\u001b[39m\u001b[38;5;124m\"\u001b[39m)\n",
      "File \u001b[0;32m~/Documents/Programs/qfit/qfit/models/registry.py:223\u001b[0m, in \u001b[0;36mRegistry.dictFromFile\u001b[0;34m(filename)\u001b[0m\n\u001b[1;32m    221\u001b[0m \u001b[38;5;28;01mtry\u001b[39;00m:\n\u001b[1;32m    222\u001b[0m     \u001b[38;5;28;01mwith\u001b[39;00m \u001b[38;5;28mopen\u001b[39m(filename, \u001b[38;5;124m\"\u001b[39m\u001b[38;5;124mrb\u001b[39m\u001b[38;5;124m\"\u001b[39m) \u001b[38;5;28;01mas\u001b[39;00m f:\n\u001b[0;32m--> 223\u001b[0m         \u001b[38;5;28;01mreturn\u001b[39;00m pickle\u001b[38;5;241m.\u001b[39mload(f)\n\u001b[1;32m    224\u001b[0m \u001b[38;5;28;01mexcept\u001b[39;00m \u001b[38;5;167;01mFileNotFoundError\u001b[39;00m:\n\u001b[1;32m    225\u001b[0m     \u001b[38;5;28;01mreturn\u001b[39;00m \u001b[38;5;28;01mNone\u001b[39;00m\n",
      "\u001b[0;31mEOFError\u001b[0m: Ran out of input"
     ]
    }
   ],
   "source": [
    "fit.open(\"./example_data/protomon/test_1_2.qfit\")"
   ]
  }
 ],
 "metadata": {
  "kernelspec": {
   "display_name": "qfit_test2",
   "language": "python",
   "name": "python3"
  },
  "language_info": {
   "codemirror_mode": {
    "name": "ipython",
    "version": 3
   },
   "file_extension": ".py",
   "mimetype": "text/x-python",
   "name": "python",
   "nbconvert_exporter": "python",
   "pygments_lexer": "ipython3",
   "version": "3.11.4"
  }
 },
 "nbformat": 4,
 "nbformat_minor": 2
}
